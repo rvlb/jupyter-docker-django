{
 "cells": [
  {
   "cell_type": "code",
   "execution_count": 1,
   "id": "e9494a20",
   "metadata": {},
   "outputs": [],
   "source": [
    "from datetime import datetime\n",
    "from django.utils.timezone import utc\n",
    "\n",
    "from music.models import Album, Song, Artist, RecordCompany"
   ]
  },
  {
   "cell_type": "code",
   "execution_count": 12,
   "id": "9538627d",
   "metadata": {},
   "outputs": [
    {
     "data": {
      "text/plain": [
       "[<Album: Humbug by Arctic Monkeys>,\n",
       " <Album: Is This It by The Strokes>,\n",
       " <Album: Happier Than Ever by Billie Eilish>,\n",
       " <Album: Dreamland by Glass Animals>,\n",
       " <Album: The Colour and the Shape by Foo Fighters>]"
      ]
     },
     "execution_count": 12,
     "metadata": {},
     "output_type": "execute_result"
    }
   ],
   "source": [
    "Album.objects.bulk_create([\n",
    "    Album(album_title=\"Humbug\", artist=\"Arctic Monkeys\", release_date=datetime(2009, 8, 19, 3, 59, 0, 99999, tzinfo=utc)),\n",
    "    Album(album_title=\"Is This It\", artist=\"The Strokes\", release_date=datetime(2001, 7, 30, 3, 59, 0, 99999, tzinfo=utc)),\n",
    "    Album(album_title=\"Happier Than Ever\", artist=\"Billie Eilish\", release_date=datetime(2021, 7, 30, 3, 59, 0, 99999, tzinfo=utc)),\n",
    "    Album(album_title=\"Dreamland\", artist=\"Glass Animals\", release_date=datetime(2020, 8, 7, 3, 59, 0, 99999, tzinfo=utc)),\n",
    "    Album(album_title=\"The Colour and the Shape\", artist=\"Foo Fighters\", release_date=datetime(1997, 5, 20, 3, 59, 0, 99999, tzinfo=utc))\n",
    "])"
   ]
  },
  {
   "cell_type": "code",
   "execution_count": 2,
   "id": "011a4315",
   "metadata": {},
   "outputs": [],
   "source": [
    "humbug = Album.objects.get(album_title=\"Humbug\", artist=\"Arctic Monkeys\")\n",
    "is_this_it = Album.objects.get(album_title=\"Is This It\", artist=\"The Strokes\")\n",
    "hte = Album.objects.get(album_title=\"Happier Than Ever\", artist=\"Billie Eilish\")\n",
    "dreamland = Album.objects.get(album_title=\"Dreamland\", artist=\"Glass Animals\")\n",
    "tcts = Album.objects.get(album_title=\"The Colour and the Shape\", artist=\"Foo Fighters\")"
   ]
  },
  {
   "cell_type": "code",
   "execution_count": 14,
   "id": "58db2110",
   "metadata": {},
   "outputs": [
    {
     "data": {
      "text/plain": [
       "[<Artist: Billie Eilish>,\n",
       " <Artist: Finneas O'Connell>,\n",
       " <Artist: Marina Diamandis>,\n",
       " <Artist: Dave Bayley>,\n",
       " <Artist: Brittany Hazzard>,\n",
       " <Artist: Paul Epworth>,\n",
       " <Artist: Julian Casablancas>,\n",
       " <Artist: Alex Turner>,\n",
       " <Artist: Arctic Monkeys>,\n",
       " <Artist: Dave Grohl>]"
      ]
     },
     "execution_count": 14,
     "metadata": {},
     "output_type": "execute_result"
    }
   ],
   "source": [
    "# Artists who composed the songs to be created\n",
    "Artist.objects.bulk_create([\n",
    "    Artist(name=\"Billie Eilish\", birthday=datetime(2001, 12, 18, 3, 59, 0, 99999, tzinfo=utc)),\n",
    "    Artist(name=\"Finneas O'Connell\", birthday=datetime(1997, 7, 30, 3, 59, 0, 99999, tzinfo=utc)),\n",
    "    Artist(name=\"Marina Diamandis\", birthday=datetime(1985, 10, 10, 3, 59, 0, 99999, tzinfo=utc)),\n",
    "    Artist(name=\"Dave Bayley\", birthday=datetime(1989, 6, 7, 3, 59, 0, 99999, tzinfo=utc)),\n",
    "    Artist(name=\"Brittany Hazzard\", birthday=datetime(1990, 6, 14, 3, 59, 0, 99999, tzinfo=utc)),\n",
    "    Artist(name=\"Paul Epworth\", birthday=datetime(1974, 7, 25, 3, 59, 0, 99999, tzinfo=utc)),\n",
    "    Artist(name=\"Julian Casablancas\", birthday=datetime(1978, 8, 23, 3, 59, 0, 99999, tzinfo=utc)),\n",
    "    Artist(name=\"Alex Turner\", birthday=datetime(1986, 1, 6, 3, 59, 0, 99999, tzinfo=utc)),\n",
    "    Artist(name=\"Arctic Monkeys\"),\n",
    "    Artist(name=\"Dave Grohl\", birthday=datetime(1969, 1, 14, 3, 59, 0, 99999, tzinfo=utc)),\n",
    "])"
   ]
  },
  {
   "cell_type": "code",
   "execution_count": 3,
   "id": "6a0e8300",
   "metadata": {},
   "outputs": [],
   "source": [
    "artist_1 = Artist.objects.get(name=\"Billie Eilish\")\n",
    "artist_2 = Artist.objects.get(name=\"Finneas O'Connell\")\n",
    "artist_3 = Artist.objects.get(name=\"Marina Diamandis\")\n",
    "artist_4 = Artist.objects.get(name=\"Dave Bayley\")\n",
    "artist_5 = Artist.objects.get(name=\"Brittany Hazzard\")\n",
    "artist_6 = Artist.objects.get(name=\"Paul Epworth\")\n",
    "artist_7 = Artist.objects.get(name=\"Julian Casablancas\")\n",
    "artist_8 = Artist.objects.get(name=\"Alex Turner\")\n",
    "artist_9 = Artist.objects.get(name=\"Arctic Monkeys\")\n",
    "artist_10 = Artist.objects.get(name=\"Dave Grohl\")"
   ]
  },
  {
   "cell_type": "code",
   "execution_count": 7,
   "id": "9e185678",
   "metadata": {
    "scrolled": true
   },
   "outputs": [],
   "source": [
    "from music.choices import MUSIC_GENRES_CHOICES\n",
    "\n",
    "song_1 = Song.objects.create(\n",
    "    song_title=\"I Am Not A Robot\",\n",
    "    release_date=datetime(2010, 4, 23, 3, 59, 0, 99999, tzinfo=utc),\n",
    "    genre=MUSIC_GENRES_CHOICES.pop_music\n",
    ")\n",
    "song_1.composers.set([artist_3])\n",
    "song_2 = Song.objects.create(\n",
    "    song_title=\"Everything I Wanted\",\n",
    "    release_date=datetime(2019, 11, 13, 3, 59, 0, 99999, tzinfo=utc),\n",
    "    genre=MUSIC_GENRES_CHOICES.pop_music\n",
    ")\n",
    "song_2.composers.set([artist_1, artist_2])\n",
    "song_3 = Song.objects.create(\n",
    "    song_title=\"No Time To Die\",\n",
    "    release_date=datetime(2020, 2, 13, 3, 59, 0, 99999, tzinfo=utc),\n",
    "    genre=MUSIC_GENRES_CHOICES.pop_music\n",
    ")\n",
    "song_3.composers.set([artist_1, artist_2])\n",
    "song_4 = Song.objects.create(\n",
    "    song_title=\"I Dont Wanna Talk (I Just Wanna Dance)\",\n",
    "    release_date=datetime(2020, 12, 13, 3, 59, 0, 99999, tzinfo=utc),\n",
    "    genre=MUSIC_GENRES_CHOICES.pop_music\n",
    ")\n",
    "song_4.composers.set([artist_4])\n",
    "\n",
    "# Humbug songs\n",
    "song_5 = humbug.songs.create(\n",
    "    song_title=\"My Propeller\",\n",
    "    release_date=datetime(2009, 8, 19, 3, 59, 0, 99999, tzinfo=utc),\n",
    "    genre=MUSIC_GENRES_CHOICES.indie_rock\n",
    ")\n",
    "song_5.composers.set([artist_8, artist_9])\n",
    "song_6 = humbug.songs.create(\n",
    "    song_title=\"Crying Lightning\",\n",
    "    release_date=datetime(2009, 8, 7, 3, 59, 0, 99999, tzinfo=utc),\n",
    "    genre=MUSIC_GENRES_CHOICES.indie_rock\n",
    ")\n",
    "song_6.composers.set([artist_8, artist_9])\n",
    "song_7 = humbug.songs.create(\n",
    "    song_title=\"Dance Little Liar\",\n",
    "    release_date=datetime(2009, 8, 19, 3, 59, 0, 99999, tzinfo=utc),\n",
    "    genre=MUSIC_GENRES_CHOICES.indie_rock\n",
    ")\n",
    "song_7.composers.set([artist_8, artist_9])\n",
    "\n",
    "# Is this it songs\n",
    "song_9 = is_this_it.songs.create(\n",
    "    song_title=\"Last Nite\",\n",
    "    release_date=datetime(2001, 10, 23, 3, 59, 0, 99999, tzinfo=utc),\n",
    "    genre=MUSIC_GENRES_CHOICES.rock\n",
    ")\n",
    "song_9.composers.set([artist_7])\n",
    "song_10 = is_this_it.songs.create(\n",
    "    song_title=\"Take It Or Leave It\",\n",
    "    release_date=datetime(2001, 7, 30, 3, 59, 0, 99999, tzinfo=utc),\n",
    "    genre=MUSIC_GENRES_CHOICES.rock\n",
    ")\n",
    "song_10.composers.set([artist_7])\n",
    "\n",
    "# Happier Than Ever songs\n",
    "song_11 = hte.songs.create(\n",
    "    song_title=\"NDA\",\n",
    "    release_date=datetime(2021, 7, 9, 3, 59, 0, 99999, tzinfo=utc),\n",
    "    genre=MUSIC_GENRES_CHOICES.electronic_music,\n",
    ")\n",
    "song_11.composers.set([artist_1, artist_2])\n",
    "song_12 = hte.songs.create(\n",
    "    song_title=\"Your Power\",\n",
    "    release_date=datetime(2021, 4, 29, 3, 59, 0, 99999, tzinfo=utc),\n",
    "    genre=MUSIC_GENRES_CHOICES.pop_music\n",
    ")\n",
    "song_12.composers.set([artist_1, artist_2])\n",
    "song_13 = hte.songs.create(\n",
    "    song_title=\"Oxytocin\",\n",
    "    release_date=datetime(2021, 7, 30, 3, 59, 0, 99999, tzinfo=utc),\n",
    "    genre=MUSIC_GENRES_CHOICES.electronic_music\n",
    ")\n",
    "song_13.composers.set([artist_1, artist_2])\n",
    "\n",
    "# Dreamland songs\n",
    "song_14 = dreamland.songs.create(\n",
    "    song_title=\"Tangerine\",\n",
    "    release_date=datetime(2020, 8, 7, 3, 59, 0, 99999, tzinfo=utc),\n",
    "    genre=MUSIC_GENRES_CHOICES.rock\n",
    ")\n",
    "song_14.composers.set([artist_4, artist_5, artist_6])\n",
    "song_15 = dreamland.songs.create(\n",
    "    song_title=\"Heat Waves\",\n",
    "    release_date=datetime(2020, 6, 29, 3, 59, 0, 99999, tzinfo=utc),\n",
    "    genre=MUSIC_GENRES_CHOICES.pop_music\n",
    ")\n",
    "song_15.composers.set([artist_4])\n",
    "song_16 = dreamland.songs.create(\n",
    "    song_title=\"Helium\",\n",
    "    release_date=datetime(2020, 8, 7, 3, 59, 0, 99999, tzinfo=utc),\n",
    "    genre=MUSIC_GENRES_CHOICES.rock\n",
    ")\n",
    "song_16.composers.set([artist_4])\n",
    "\n",
    "# The Colour and the Shape songs\n",
    "song_17 = tcts.songs.create(\n",
    "    song_title=\"Everlong\",\n",
    "    release_date=datetime(1997, 8, 18, 3, 59, 0, 99999, tzinfo=utc),\n",
    "    genre=MUSIC_GENRES_CHOICES.rock\n",
    ")\n",
    "song_17.composers.set([artist_10])\n",
    "song_18 = tcts.songs.create(\n",
    "    song_title=\"Monkey Wrench\",\n",
    "    release_date=datetime(1997, 4, 28, 3, 59, 0, 99999, tzinfo=utc),\n",
    "    genre=MUSIC_GENRES_CHOICES.rock\n",
    ")\n",
    "song_18.composers.set([artist_10])"
   ]
  },
  {
   "cell_type": "code",
   "execution_count": 9,
   "id": "c2652ba0",
   "metadata": {},
   "outputs": [
    {
     "data": {
      "text/plain": [
       "<QuerySet [<Artist: Billie Eilish>, <Artist: Finneas O'Connell>]>"
      ]
     },
     "execution_count": 9,
     "metadata": {},
     "output_type": "execute_result"
    }
   ],
   "source": [
    "# Count example\n",
    "\n",
    "from django.db.models import Count\n",
    "\n",
    "Artist.objects.annotate(Count(\"songs_written\")).filter(songs_written__count__gt=4)"
   ]
  },
  {
   "cell_type": "code",
   "execution_count": 10,
   "id": "200b9718",
   "metadata": {
    "scrolled": true
   },
   "outputs": [
    {
     "name": "stdout",
     "output_type": "stream",
     "text": [
      "SELECT \"music_artist\".\"id\", \"music_artist\".\"name\", \"music_artist\".\"birthday\", COUNT(\"music_song_composers\".\"song_id\") AS \"songs_written__count\" FROM \"music_artist\" LEFT OUTER JOIN \"music_song_composers\" ON (\"music_artist\".\"id\" = \"music_song_composers\".\"artist_id\") GROUP BY \"music_artist\".\"id\"\n"
     ]
    }
   ],
   "source": [
    "print(Artist.objects.annotate(Count(\"songs_written\")).all().query)"
   ]
  },
  {
   "cell_type": "code",
   "execution_count": 11,
   "id": "f8e2c36b",
   "metadata": {},
   "outputs": [
    {
     "data": {
      "text/plain": [
       "{'_state': <django.db.models.base.ModelState at 0x7f4101fc15b0>,\n",
       " 'id': 28,\n",
       " 'album_title': 'Humbug',\n",
       " 'artist': 'Arctic Monkeys',\n",
       " 'record_company_id': None,\n",
       " 'release_date': None,\n",
       " 'album_label': 'Humbug by Arctic Monkeys'}"
      ]
     },
     "execution_count": 11,
     "metadata": {},
     "output_type": "execute_result"
    }
   ],
   "source": [
    "# Using F with annotations\n",
    "\n",
    "from django.db.models import F, Value\n",
    "from django.db.models.functions import Concat\n",
    "\n",
    "Album.objects.annotate(album_label=Concat(F(\"album_title\"), Value(\" by \"), F(\"artist\"))).all().first().__dict__"
   ]
  },
  {
   "cell_type": "code",
   "execution_count": 14,
   "id": "ec31eb78",
   "metadata": {},
   "outputs": [
    {
     "data": {
      "text/plain": [
       "<QuerySet [('Dreamland', 0), ('Is This It', 0), ('Humbug', 0), ('The Colour and the Shape', 0), ('Happier Than Ever', 2)]>"
      ]
     },
     "execution_count": 14,
     "metadata": {},
     "output_type": "execute_result"
    }
   ],
   "source": [
    "# Annotation with filters\n",
    "\n",
    "from django.db.models import Q\n",
    "\n",
    "Album.objects.annotate(\n",
    "    electronic_songs_count=Count(\"songs\", filter=Q(songs__genre=MUSIC_GENRES_CHOICES.electronic_music))\n",
    ").values_list(\"album_title\", \"electronic_songs_count\")"
   ]
  },
  {
   "cell_type": "code",
   "execution_count": null,
   "id": "fd69cfcf",
   "metadata": {},
   "outputs": [],
   "source": [
    "# Using FilteredRelation with annotations"
   ]
  },
  {
   "cell_type": "code",
   "execution_count": null,
   "id": "0296bab5",
   "metadata": {},
   "outputs": [],
   "source": [
    "# Using SubQuery with annotations"
   ]
  }
 ],
 "metadata": {
  "kernelspec": {
   "display_name": "Django Shell-Plus",
   "language": "python",
   "name": "django_extensions"
  },
  "language_info": {
   "codemirror_mode": {
    "name": "ipython",
    "version": 3
   },
   "file_extension": ".py",
   "mimetype": "text/x-python",
   "name": "python",
   "nbconvert_exporter": "python",
   "pygments_lexer": "ipython3",
   "version": "3.8.12"
  }
 },
 "nbformat": 4,
 "nbformat_minor": 5
}
