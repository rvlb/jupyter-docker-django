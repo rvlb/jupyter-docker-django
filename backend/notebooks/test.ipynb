{
 "cells": [
  {
   "cell_type": "code",
   "execution_count": 11,
   "id": "e9494a20",
   "metadata": {},
   "outputs": [],
   "source": [
    "from music.models import Album, Song, Artist"
   ]
  },
  {
   "cell_type": "code",
   "execution_count": 8,
   "id": "9538627d",
   "metadata": {},
   "outputs": [
    {
     "data": {
      "text/plain": [
       "[<Album: Humbug by Arctic Monkeys>,\n",
       " <Album: Is This It by The Strokes>,\n",
       " <Album: Happier Than Ever by Billie Eilish>,\n",
       " <Album: Dreamland by Glass Animals>,\n",
       " <Album: The Colour and the Shape by Foo Fighters>]"
      ]
     },
     "execution_count": 8,
     "metadata": {},
     "output_type": "execute_result"
    }
   ],
   "source": [
    "Album.objects.bulk_create([\n",
    "    Album(album_title=\"Humbug\", artist=\"Arctic Monkeys\"),\n",
    "    Album(album_title=\"Is This It\", artist=\"The Strokes\"),\n",
    "    Album(album_title=\"Happier Than Ever\", artist=\"Billie Eilish\"),\n",
    "    Album(album_title=\"Dreamland\", artist=\"Glass Animals\"),\n",
    "    Album(album_title=\"The Colour and the Shape\", artist=\"Foo Fighters\")\n",
    "])"
   ]
  },
  {
   "cell_type": "code",
   "execution_count": 9,
   "id": "011a4315",
   "metadata": {},
   "outputs": [],
   "source": [
    "humbug = Album.objects.get(album_title=\"Humbug\", artist=\"Arctic Monkeys\")\n",
    "is_this_it = Album.objects.get(album_title=\"Is This It\", artist=\"The Strokes\")\n",
    "hte = Album.objects.get(album_title=\"Happier Than Ever\", artist=\"Billie Eilish\")\n",
    "dreamland = Album.objects.get(album_title=\"Dreamland\", artist=\"Glass Animals\")\n",
    "tcts = Album.objects.get(album_title=\"The Colour and the Shape\", artist=\"Foo Fighters\")"
   ]
  },
  {
   "cell_type": "code",
   "execution_count": 12,
   "id": "58db2110",
   "metadata": {},
   "outputs": [
    {
     "data": {
      "text/plain": [
       "[<Artist: Billie Eilish>,\n",
       " <Artist: Finneas O'Connell>,\n",
       " <Artist: Marina Diamandis>,\n",
       " <Artist: Dave Bayley>,\n",
       " <Artist: Brittany Hazzard>,\n",
       " <Artist: Paul Epworth>,\n",
       " <Artist: Julian Casablancas>,\n",
       " <Artist: Alex Turner>,\n",
       " <Artist: Arctic Monkeys>,\n",
       " <Artist: Dave Grohl>]"
      ]
     },
     "execution_count": 12,
     "metadata": {},
     "output_type": "execute_result"
    }
   ],
   "source": [
    "# Artists who composed the songs to be created\n",
    "Artist.objects.bulk_create([\n",
    "    Artist(name=\"Billie Eilish\"),\n",
    "    Artist(name=\"Finneas O'Connell\"),\n",
    "    Artist(name=\"Marina Diamandis\"),\n",
    "    Artist(name=\"Dave Bayley\"),\n",
    "    Artist(name=\"Brittany Hazzard\"),\n",
    "    Artist(name=\"Paul Epworth\"),\n",
    "    Artist(name=\"Julian Casablancas\"),\n",
    "    Artist(name=\"Alex Turner\"),\n",
    "    Artist(name=\"Arctic Monkeys\"),\n",
    "    Artist(name=\"Dave Grohl\"),\n",
    "])"
   ]
  },
  {
   "cell_type": "code",
   "execution_count": 13,
   "id": "6a0e8300",
   "metadata": {},
   "outputs": [],
   "source": [
    "artist_1 = Artist.objects.get(name=\"Billie Eilish\")\n",
    "artist_2 = Artist.objects.get(name=\"Finneas O'Connell\")\n",
    "artist_3 = Artist.objects.get(name=\"Marina Diamandis\")\n",
    "artist_4 = Artist.objects.get(name=\"Dave Bayley\")\n",
    "artist_5 = Artist.objects.get(name=\"Brittany Hazzard\")\n",
    "artist_6 = Artist.objects.get(name=\"Paul Epworth\")\n",
    "artist_7 = Artist.objects.get(name=\"Julian Casablancas\")\n",
    "artist_8 = Artist.objects.get(name=\"Alex Turner\")\n",
    "artist_9 = Artist.objects.get(name=\"Arctic Monkeys\")\n",
    "artist_10 = Artist.objects.get(name=\"Dave Grohl\")"
   ]
  },
  {
   "cell_type": "code",
   "execution_count": 14,
   "id": "9e185678",
   "metadata": {
    "scrolled": true
   },
   "outputs": [],
   "source": [
    "song_1 = Song.objects.create(song_title=\"I Am Not A Robot\")\n",
    "song_1.composers.set([artist_3])\n",
    "song_2 = Song.objects.create(song_title=\"Everything I Wanted\")\n",
    "song_2.composers.set([artist_1, artist_2])\n",
    "song_3 = Song.objects.create(song_title=\"No Time To Die\")\n",
    "song_3.composers.set([artist_1, artist_2])\n",
    "song_4 = Song.objects.create(song_title=\"I Dont Wanna Talk (I Just Wanna Dance)\")\n",
    "song_4.composers.set([artist_4])\n",
    "\n",
    "# Humbug songs\n",
    "song_5 = humbug.songs.create(song_title=\"My Propeller\")\n",
    "song_5.composers.set([artist_8, artist_9])\n",
    "song_6 = humbug.songs.create(song_title=\"Crying Lightning\")\n",
    "song_6.composers.set([artist_8, artist_9])\n",
    "song_7 = humbug.songs.create(song_title=\"Dance Little Liar\")\n",
    "song_7.composers.set([artist_8, artist_9])\n",
    "\n",
    "# Is this it songs\n",
    "song_9 = is_this_it.songs.create(song_title=\"Last Nite\")\n",
    "song_9.composers.set([artist_7])\n",
    "song_10 = is_this_it.songs.create(song_title=\"Take It Or Leave It\")\n",
    "song_10.composers.set([artist_7])\n",
    "\n",
    "# Happier Than Ever songs\n",
    "song_11 = hte.songs.create(song_title=\"NDA\")\n",
    "song_11.composers.set([artist_1, artist_2])\n",
    "song_12 = hte.songs.create(song_title=\"Your Power\")\n",
    "song_12.composers.set([artist_1, artist_2])\n",
    "song_13 = hte.songs.create(song_title=\"Oxytocin\")\n",
    "song_13.composers.set([artist_1, artist_2])\n",
    "\n",
    "# Dreamland songs\n",
    "song_14 = dreamland.songs.create(song_title=\"Tangerine\")\n",
    "song_14.composers.set([artist_4, artist_5, artist_6])\n",
    "song_15 = dreamland.songs.create(song_title=\"Heat Waves\")\n",
    "song_15.composers.set([artist_4])\n",
    "song_16 = dreamland.songs.create(song_title=\"Helium\")\n",
    "song_16.composers.set([artist_4])\n",
    "\n",
    "# The Colour and the Shape songs\n",
    "song_17 = tcts.songs.create(song_title=\"Everlong\")\n",
    "song_17.composers.set([artist_10])\n",
    "song_18 = tcts.songs.create(song_title=\"Monkey Wrench\")\n",
    "song_18.composers.set([artist_10])"
   ]
  },
  {
   "cell_type": "code",
   "execution_count": null,
   "id": "c2652ba0",
   "metadata": {},
   "outputs": [],
   "source": []
  }
 ],
 "metadata": {
  "kernelspec": {
   "display_name": "Django Shell-Plus",
   "language": "python",
   "name": "django_extensions"
  },
  "language_info": {
   "codemirror_mode": {
    "name": "ipython",
    "version": 3
   },
   "file_extension": ".py",
   "mimetype": "text/x-python",
   "name": "python",
   "nbconvert_exporter": "python",
   "pygments_lexer": "ipython3",
   "version": "3.8.12"
  }
 },
 "nbformat": 4,
 "nbformat_minor": 5
}
