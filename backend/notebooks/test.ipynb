{
 "cells": [
  {
   "cell_type": "code",
   "execution_count": 1,
   "id": "e9494a20",
   "metadata": {},
   "outputs": [],
   "source": [
    "from music.models import Album, Song"
   ]
  },
  {
   "cell_type": "code",
   "execution_count": 7,
   "id": "9538627d",
   "metadata": {},
   "outputs": [
    {
     "data": {
      "text/plain": [
       "[<Album: Humbug by Arctic Monkeys>,\n",
       " <Album: Is This It by The Strokes>,\n",
       " <Album: Happier Than Ever by Billie Eilish>,\n",
       " <Album: Dreamland by Glass Animals>]"
      ]
     },
     "execution_count": 7,
     "metadata": {},
     "output_type": "execute_result"
    }
   ],
   "source": [
    "Album.objects.bulk_create([\n",
    "    Album(album_title=\"Humbug\", artist=\"Arctic Monkeys\"),\n",
    "    Album(album_title=\"Is This It\", artist=\"The Strokes\"),\n",
    "    Album(album_title=\"Happier Than Ever\", artist=\"Billie Eilish\"),\n",
    "    Album(album_title=\"Dreamland\", artist=\"Glass Animals\"),\n",
    "])"
   ]
  },
  {
   "cell_type": "code",
   "execution_count": 8,
   "id": "011a4315",
   "metadata": {},
   "outputs": [],
   "source": [
    "humbug = Album.objects.get(album_title=\"Humbug\", artist=\"Arctic Monkeys\")\n",
    "is_this_it = Album.objects.get(album_title=\"Is This It\", artist=\"The Strokes\")\n",
    "hte = Album.objects.get(album_title=\"Happier Than Ever\", artist=\"Billie Eilish\")\n",
    "dreamland = Album.objects.get(album_title=\"Dreamland\", artist=\"Glass Animals\")"
   ]
  },
  {
   "cell_type": "code",
   "execution_count": 4,
   "id": "9e185678",
   "metadata": {
    "scrolled": true
   },
   "outputs": [
    {
     "data": {
      "text/plain": [
       "<Song: I Dont Wanna Talk (I Just Wanna Dance)>"
      ]
     },
     "execution_count": 4,
     "metadata": {},
     "output_type": "execute_result"
    }
   ],
   "source": [
    "Song.objects.create(song_title=\"Drag Queen\")\n",
    "Song.objects.create(song_title=\"Everything I Wanted\")\n",
    "Song.objects.create(song_title=\"I Dont Wanna Talk (I Just Wanna Dance)\")"
   ]
  },
  {
   "cell_type": "code",
   "execution_count": 9,
   "id": "4067b170",
   "metadata": {
    "scrolled": false
   },
   "outputs": [
    {
     "data": {
      "text/plain": [
       "<Song: Last Nite>"
      ]
     },
     "execution_count": 9,
     "metadata": {},
     "output_type": "execute_result"
    }
   ],
   "source": [
    "is_this_it.songs.create(song_title=\"Last Nite\")"
   ]
  },
  {
   "cell_type": "code",
   "execution_count": 10,
   "id": "2314fd89",
   "metadata": {
    "scrolled": true
   },
   "outputs": [
    {
     "data": {
      "text/plain": [
       "<Song: NDA>"
      ]
     },
     "execution_count": 10,
     "metadata": {},
     "output_type": "execute_result"
    }
   ],
   "source": [
    "hte.songs.create(song_title=\"NDA\")"
   ]
  },
  {
   "cell_type": "code",
   "execution_count": 11,
   "id": "c8467e49",
   "metadata": {},
   "outputs": [
    {
     "data": {
      "text/plain": [
       "<Song: Tangerine>"
      ]
     },
     "execution_count": 11,
     "metadata": {},
     "output_type": "execute_result"
    }
   ],
   "source": [
    "dreamland.songs.create(song_title=\"Tangerine\")"
   ]
  },
  {
   "cell_type": "code",
   "execution_count": 15,
   "id": "8a2ebe14",
   "metadata": {},
   "outputs": [
    {
     "name": "stdout",
     "output_type": "stream",
     "text": [
      "Is This It\n",
      "Happier Than Ever\n",
      "Dreamland\n"
     ]
    }
   ],
   "source": [
    "songs = Song.objects.all()\n",
    "for song in songs:\n",
    "    print(song.album.album_title)"
   ]
  }
 ],
 "metadata": {
  "kernelspec": {
   "display_name": "Django Shell-Plus",
   "language": "python",
   "name": "django_extensions"
  },
  "language_info": {
   "codemirror_mode": {
    "name": "ipython",
    "version": 3
   },
   "file_extension": ".py",
   "mimetype": "text/x-python",
   "name": "python",
   "nbconvert_exporter": "python",
   "pygments_lexer": "ipython3",
   "version": "3.8.12"
  }
 },
 "nbformat": 4,
 "nbformat_minor": 5
}
