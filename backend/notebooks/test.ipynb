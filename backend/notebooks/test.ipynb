{
 "cells": [
  {
   "cell_type": "code",
   "execution_count": 1,
   "id": "e9494a20",
   "metadata": {},
   "outputs": [],
   "source": [
    "from datetime import datetime\n",
    "from django.utils.timezone import utc\n",
    "\n",
    "from music.choices import MUSIC_GENRES_CHOICES\n",
    "from music.models import Album, Song, Artist, RecordCompany\n",
    "from music.utils import *"
   ]
  },
  {
   "cell_type": "code",
   "execution_count": 2,
   "id": "4ed4abe4",
   "metadata": {},
   "outputs": [],
   "source": [
    "clean_database()\n",
    "create_albums()\n",
    "create_artists_composers()\n",
    "create_songs()"
   ]
  },
  {
   "cell_type": "code",
   "execution_count": 3,
   "id": "b92b74aa",
   "metadata": {},
   "outputs": [
    {
     "data": {
      "text/plain": [
       "<QuerySet [<Artist: Dua Lipa>, <Artist: Dave Bayley>, <Artist: Julia Michaels>, <Artist: Billie Eilish>, <Artist: Sarah Hudson>, <Artist: Finneas O'Connell>]>"
      ]
     },
     "execution_count": 3,
     "metadata": {},
     "output_type": "execute_result"
    }
   ],
   "source": [
    "Artist.objects.filter(songs_written__genre=MUSIC_GENRES_CHOICES.pop_music).distinct()"
   ]
  },
  {
   "cell_type": "code",
   "execution_count": 4,
   "id": "c2652ba0",
   "metadata": {},
   "outputs": [
    {
     "data": {
      "text/plain": [
       "<QuerySet [<Artist: Finneas O'Connell>, <Artist: Billie Eilish>]>"
      ]
     },
     "execution_count": 4,
     "metadata": {},
     "output_type": "execute_result"
    }
   ],
   "source": [
    "# Count example\n",
    "\n",
    "from django.db.models import Count\n",
    "\n",
    "Artist.objects.annotate(Count(\"songs_written\")).filter(songs_written__count__gt=4)"
   ]
  },
  {
   "cell_type": "code",
   "execution_count": 5,
   "id": "200b9718",
   "metadata": {
    "scrolled": true
   },
   "outputs": [
    {
     "name": "stdout",
     "output_type": "stream",
     "text": [
      "SELECT \"music_artist\".\"id\", \"music_artist\".\"name\", \"music_artist\".\"birthday\", COUNT(\"music_song_composers\".\"song_id\") AS \"songs_written__count\" FROM \"music_artist\" LEFT OUTER JOIN \"music_song_composers\" ON (\"music_artist\".\"id\" = \"music_song_composers\".\"artist_id\") GROUP BY \"music_artist\".\"id\" HAVING COUNT(\"music_song_composers\".\"song_id\") > 4\n"
     ]
    }
   ],
   "source": [
    "# Count SQL query\n",
    "print(Artist.objects.annotate(Count(\"songs_written\")).filter(songs_written__count__gt=4).query)"
   ]
  },
  {
   "cell_type": "code",
   "execution_count": 6,
   "id": "f8e2c36b",
   "metadata": {},
   "outputs": [
    {
     "data": {
      "text/plain": [
       "{'_state': <django.db.models.base.ModelState at 0x7f51f5ef0850>,\n",
       " 'id': 68,\n",
       " 'album_title': 'Future Nostalgia',\n",
       " 'artist': 'Dua Lipa',\n",
       " 'record_company_id': None,\n",
       " 'release_date': datetime.datetime(2020, 3, 27, 3, 59, 0, 99999, tzinfo=<UTC>),\n",
       " 'grammy_nominated': True,\n",
       " 'album_label': 'Future Nostalgia by Dua Lipa'}"
      ]
     },
     "execution_count": 6,
     "metadata": {},
     "output_type": "execute_result"
    }
   ],
   "source": [
    "# Using F with annotations\n",
    "\n",
    "from django.db.models import F, Value\n",
    "from django.db.models.functions import Concat\n",
    "\n",
    "Album.objects.annotate(album_label=Concat(F(\"album_title\"), Value(\" by \"), F(\"artist\"))).all().first().__dict__"
   ]
  },
  {
   "cell_type": "code",
   "execution_count": 7,
   "id": "b3142ca2",
   "metadata": {},
   "outputs": [
    {
     "name": "stdout",
     "output_type": "stream",
     "text": [
      "SELECT \"music_album\".\"id\", \"music_album\".\"album_title\", \"music_album\".\"artist\", \"music_album\".\"record_company_id\", \"music_album\".\"release_date\", \"music_album\".\"grammy_nominated\", CONCAT(\"music_album\".\"album_title\", CONCAT( by , \"music_album\".\"artist\")) AS \"album_label\" FROM \"music_album\"\n"
     ]
    }
   ],
   "source": [
    "# Annotation + F SQL query\n",
    "print(Album.objects.annotate(album_label=Concat(F(\"album_title\"), Value(\" by \"), F(\"artist\"))).all().query)"
   ]
  },
  {
   "cell_type": "code",
   "execution_count": 8,
   "id": "ec31eb78",
   "metadata": {},
   "outputs": [
    {
     "data": {
      "text/plain": [
       "<QuerySet [<Album: Social Cues by Cage The Elephant>, <Album: The Colour and the Shape by Foo Fighters>, <Album: Dreamland by Glass Animals>]>"
      ]
     },
     "execution_count": 8,
     "metadata": {},
     "output_type": "execute_result"
    }
   ],
   "source": [
    "# Annotation with filters\n",
    "\n",
    "from django.db.models import Q\n",
    "\n",
    "Album.objects.annotate(\n",
    "    electronic_songs_count=Count(\"songs\", filter=Q(songs__genre=MUSIC_GENRES_CHOICES.rock))\n",
    ").filter(electronic_songs_count__gt=1)"
   ]
  },
  {
   "cell_type": "code",
   "execution_count": 9,
   "id": "dfe1fbfc",
   "metadata": {},
   "outputs": [
    {
     "name": "stdout",
     "output_type": "stream",
     "text": [
      "SELECT \"music_album\".\"id\", \"music_album\".\"album_title\", \"music_album\".\"artist\", \"music_album\".\"record_company_id\", \"music_album\".\"release_date\", \"music_album\".\"grammy_nominated\", COUNT(\"music_song\".\"id\") FILTER (WHERE \"music_song\".\"genre\" = rock) AS \"electronic_songs_count\" FROM \"music_album\" LEFT OUTER JOIN \"music_song\" ON (\"music_album\".\"id\" = \"music_song\".\"album_id\") GROUP BY \"music_album\".\"id\" HAVING COUNT(\"music_song\".\"id\") FILTER (WHERE (\"music_song\".\"genre\" = rock)) > 1\n"
     ]
    }
   ],
   "source": [
    "# Annotation with filters SQL query\n",
    "print(Album.objects.annotate(\n",
    "    electronic_songs_count=Count(\"songs\", filter=Q(songs__genre=MUSIC_GENRES_CHOICES.rock))\n",
    ").filter(electronic_songs_count__gt=1).query)"
   ]
  },
  {
   "cell_type": "code",
   "execution_count": 14,
   "id": "fd69cfcf",
   "metadata": {
    "scrolled": true
   },
   "outputs": [
    {
     "data": {
      "text/plain": [
       "<QuerySet [<Album: Social Cues by Cage The Elephant>]>"
      ]
     },
     "execution_count": 14,
     "metadata": {},
     "output_type": "execute_result"
    }
   ],
   "source": [
    "# Using FilteredRelation with annotations\n",
    "\n",
    "from django.db.models import FilteredRelation, F, Q\n",
    "\n",
    "# Filtering artists that have composed pop songs that were nominated to the Grammys\n",
    "# Artist.objects.annotate(\n",
    "#     grammy_nominated_songs=FilteredRelation(\n",
    "#         \"songs_written\", condition=Q(songs_written__grammy_nominated=True)\n",
    "#     )\n",
    "# ).filter(grammy_nominated_songs__genre=MUSIC_GENRES_CHOICES.pop_music)\n",
    "\n",
    "# Filtering Albums with rock songs that have the same title as the album title\n",
    "Album.objects.annotate(\n",
    "    same_title_songs=FilteredRelation(\n",
    "        \"songs\", condition=Q(songs__song_title=F(\"album_title\"))\n",
    "    )\n",
    ").filter(same_title_songs__genre=MUSIC_GENRES_CHOICES.rock)"
   ]
  },
  {
   "cell_type": "code",
   "execution_count": 15,
   "id": "84ed09dc",
   "metadata": {},
   "outputs": [
    {
     "name": "stdout",
     "output_type": "stream",
     "text": [
      "SELECT \"music_album\".\"id\", \"music_album\".\"album_title\", \"music_album\".\"artist\", \"music_album\".\"record_company_id\", \"music_album\".\"release_date\", \"music_album\".\"grammy_nominated\" FROM \"music_album\" INNER JOIN \"music_song\" same_title_songs ON (\"music_album\".\"id\" = same_title_songs.\"album_id\" AND (same_title_songs.\"song_title\" = \"music_album\".\"album_title\")) WHERE same_title_songs.\"genre\" = rock\n"
     ]
    }
   ],
   "source": [
    "print(Album.objects.annotate(\n",
    "    same_title_songs=FilteredRelation(\n",
    "        \"songs\", condition=Q(songs__song_title=F(\"album_title\"))\n",
    "    )\n",
    ").filter(same_title_songs__genre=MUSIC_GENRES_CHOICES.rock).query)"
   ]
  },
  {
   "cell_type": "code",
   "execution_count": 20,
   "id": "f588f5a8",
   "metadata": {},
   "outputs": [
    {
     "name": "stdout",
     "output_type": "stream",
     "text": [
      "Hash Join  (cost=2.46..3.83 rows=3 width=30) (actual time=0.084..0.093 rows=6 loops=1)\n",
      "  Hash Cond: (music_song_composers.artist_id = music_artist.id)\n",
      "  ->  Hash Join  (cost=1.24..2.60 rows=3 width=8) (actual time=0.041..0.048 rows=6 loops=1)\n",
      "        Hash Cond: (music_song_composers.song_id = grammy_nominated_songs.id)\n",
      "        ->  Seq Scan on music_song_composers  (cost=0.00..1.27 rows=27 width=16) (actual time=0.004..0.007 rows=27 loops=1)\n",
      "        ->  Hash  (cost=1.21..1.21 rows=2 width=8) (actual time=0.015..0.016 rows=3 loops=1)\n",
      "              Buckets: 1024  Batches: 1  Memory Usage: 9kB\n",
      "              ->  Seq Scan on music_song grammy_nominated_songs  (cost=0.00..1.21 rows=2 width=8) (actual time=0.005..0.008 rows=3 loops=1)\n",
      "                    Filter: (grammy_nominated AND ((genre)::text = 'pop_music'::text))\n",
      "                    Rows Removed by Filter: 14\n",
      "  ->  Hash  (cost=1.10..1.10 rows=10 width=30) (actual time=0.023..0.024 rows=10 loops=1)\n",
      "        Buckets: 1024  Batches: 1  Memory Usage: 9kB\n",
      "        ->  Seq Scan on music_artist  (cost=0.00..1.10 rows=10 width=30) (actual time=0.009..0.011 rows=10 loops=1)\n",
      "Planning Time: 1.025 ms\n",
      "Execution Time: 0.168 ms\n"
     ]
    }
   ],
   "source": [
    "from django.db.models import FilteredRelation, F, Q\n",
    "\n",
    "print(Artist.objects.annotate(\n",
    "    grammy_nominated_songs=FilteredRelation(\n",
    "        \"songs_written\", condition=Q(songs_written__grammy_nominated=True)\n",
    "    )\n",
    ").filter(grammy_nominated_songs__genre=MUSIC_GENRES_CHOICES.pop_music).explain(analyze=True))"
   ]
  },
  {
   "cell_type": "code",
   "execution_count": 21,
   "id": "a31d5bca",
   "metadata": {
    "scrolled": true
   },
   "outputs": [
    {
     "name": "stdout",
     "output_type": "stream",
     "text": [
      "Hash Join  (cost=2.46..3.83 rows=3 width=30) (actual time=0.111..0.128 rows=6 loops=1)\n",
      "  Hash Cond: (music_song_composers.artist_id = music_artist.id)\n",
      "  ->  Hash Join  (cost=1.24..2.60 rows=3 width=8) (actual time=0.052..0.065 rows=6 loops=1)\n",
      "        Hash Cond: (music_song_composers.song_id = music_song.id)\n",
      "        ->  Seq Scan on music_song_composers  (cost=0.00..1.27 rows=27 width=16) (actual time=0.004..0.009 rows=27 loops=1)\n",
      "        ->  Hash  (cost=1.21..1.21 rows=2 width=8) (actual time=0.028..0.029 rows=3 loops=1)\n",
      "              Buckets: 1024  Batches: 1  Memory Usage: 9kB\n",
      "              ->  Seq Scan on music_song  (cost=0.00..1.21 rows=2 width=8) (actual time=0.008..0.014 rows=3 loops=1)\n",
      "                    Filter: (grammy_nominated AND ((genre)::text = 'pop_music'::text))\n",
      "                    Rows Removed by Filter: 14\n",
      "  ->  Hash  (cost=1.10..1.10 rows=10 width=30) (actual time=0.042..0.043 rows=10 loops=1)\n",
      "        Buckets: 1024  Batches: 1  Memory Usage: 9kB\n",
      "        ->  Seq Scan on music_artist  (cost=0.00..1.10 rows=10 width=30) (actual time=0.016..0.020 rows=10 loops=1)\n",
      "Planning Time: 0.935 ms\n",
      "Execution Time: 0.237 ms\n"
     ]
    }
   ],
   "source": [
    "# print(Artist.objects.filter(songs_written__grammy_nominated=True, songs_written__genre=MUSIC_GENRES_CHOICES.pop_music).query)\n",
    "\n",
    "print(Artist.objects.filter(songs_written__grammy_nominated=True, songs_written__genre=MUSIC_GENRES_CHOICES.pop_music).explain(analyze=True))"
   ]
  },
  {
   "cell_type": "code",
   "execution_count": 33,
   "id": "f55772bb",
   "metadata": {},
   "outputs": [
    {
     "name": "stdout",
     "output_type": "stream",
     "text": [
      "SELECT \"music_artist\".\"id\", \"music_artist\".\"name\", \"music_artist\".\"birthday\" FROM \"music_artist\" INNER JOIN \"music_song_composers\" ON (\"music_artist\".\"id\" = \"music_song_composers\".\"artist_id\") INNER JOIN \"music_song\" grammy_nominated_songs ON (\"music_song_composers\".\"song_id\" = grammy_nominated_songs.\"id\" AND (grammy_nominated_songs.\"grammy_nominated\")) WHERE grammy_nominated_songs.\"genre\" = pop_music\n"
     ]
    }
   ],
   "source": [
    "print(Artist.objects.annotate(\n",
    "    grammy_nominated_songs=FilteredRelation(\n",
    "        \"songs_written\", condition=Q(songs_written__grammy_nominated=True)\n",
    "    )\n",
    ").filter(grammy_nominated_songs__genre=MUSIC_GENRES_CHOICES.pop_music).query)"
   ]
  },
  {
   "cell_type": "code",
   "execution_count": 27,
   "id": "5c87f39d",
   "metadata": {},
   "outputs": [
    {
     "data": {
      "text/plain": [
       "<QuerySet [('Billie Eilish', 'Oxytocin'), (\"Finneas O'Connell\", 'Oxytocin'), ('Marina Diamandis', 'I Am Not A Robot'), ('Dave Bayley', 'I Dont Wanna Talk (I Just Wanna Dance)'), ('Brittany Hazzard', 'Tangerine'), ('Paul Epworth', 'Tangerine'), ('Julian Casablancas', 'Last Nite'), ('Alex Turner', 'My Propeller'), ('Arctic Monkeys', 'My Propeller'), ('Dave Grohl', 'Everlong')]>"
      ]
     },
     "execution_count": 27,
     "metadata": {},
     "output_type": "execute_result"
    }
   ],
   "source": [
    "# Using SubQuery with annotations\n",
    "\n",
    "from django.db.models import OuterRef, Subquery\n",
    "\n",
    "Artist.objects.annotate(latest_released_song_title=Subquery(\n",
    "    Song.objects.filter(composers=OuterRef(\"id\")).order_by(\"-release_date\").values(\"song_title\")[:1]\n",
    ")).values_list(\"name\", \"latest_released_song_title\")"
   ]
  },
  {
   "cell_type": "code",
   "execution_count": 34,
   "id": "a9f2920c",
   "metadata": {},
   "outputs": [
    {
     "name": "stdout",
     "output_type": "stream",
     "text": [
      "SELECT \"music_artist\".\"name\", (SELECT U0.\"song_title\" FROM \"music_song\" U0 INNER JOIN \"music_song_composers\" U1 ON (U0.\"id\" = U1.\"song_id\") WHERE U1.\"artist_id\" = \"music_artist\".\"id\" ORDER BY U0.\"release_date\" DESC LIMIT 1) AS \"latest_released_song_title\" FROM \"music_artist\"\n"
     ]
    }
   ],
   "source": [
    "print(Artist.objects.annotate(latest_released_song_title=Subquery(\n",
    "    Song.objects.filter(composers=OuterRef(\"id\")).order_by(\"-release_date\").values(\"song_title\")[:1]\n",
    ")).values_list(\"name\", \"latest_released_song_title\").query)"
   ]
  }
 ],
 "metadata": {
  "kernelspec": {
   "display_name": "Django Shell-Plus",
   "language": "python",
   "name": "django_extensions"
  },
  "language_info": {
   "codemirror_mode": {
    "name": "ipython",
    "version": 3
   },
   "file_extension": ".py",
   "mimetype": "text/x-python",
   "name": "python",
   "nbconvert_exporter": "python",
   "pygments_lexer": "ipython3",
   "version": "3.8.12"
  }
 },
 "nbformat": 4,
 "nbformat_minor": 5
}
