{
 "cells": [
  {
   "cell_type": "code",
   "execution_count": 3,
   "id": "e9494a20",
   "metadata": {},
   "outputs": [],
   "source": [
    "from music.models import Album, Song"
   ]
  },
  {
   "cell_type": "code",
   "execution_count": 4,
   "id": "9538627d",
   "metadata": {},
   "outputs": [
    {
     "data": {
      "text/plain": [
       "[<Album: Album object (1)>,\n",
       " <Album: Album object (2)>,\n",
       " <Album: Album object (3)>,\n",
       " <Album: Album object (4)>]"
      ]
     },
     "execution_count": 4,
     "metadata": {},
     "output_type": "execute_result"
    }
   ],
   "source": [
    "Album.objects.bulk_create([\n",
    "    Album(album_title=\"Humbug\", artist=\"Arctic Monkeys\"),\n",
    "    Album(album_title=\"Is This It\", artist=\"The Strokes\"),\n",
    "    Album(album_title=\"Happier Than Ever\", artist=\"Billie Eilish\"),\n",
    "    Album(album_title=\"Dreamland\", artist=\"Glass Animals\"),\n",
    "])"
   ]
  },
  {
   "cell_type": "code",
   "execution_count": 13,
   "id": "011a4315",
   "metadata": {},
   "outputs": [],
   "source": [
    "humbug = Album.objects.get(album_title=\"Humbug\", artist=\"Arctic Monkeys\")\n",
    "is_this_it = Album.objects.get(album_title=\"Is This It\", artist=\"The Strokes\")\n",
    "hte = Album.objects.get(album_title=\"Happier Than Ever\", artist=\"Billie Eilish\")\n",
    "dreamland = Album.objects.get(album_title=\"Dreamland\", artist=\"Glass Animals\")"
   ]
  },
  {
   "cell_type": "code",
   "execution_count": 6,
   "id": "9e185678",
   "metadata": {
    "scrolled": true
   },
   "outputs": [
    {
     "data": {
      "text/plain": [
       "<Song: Song object (3)>"
      ]
     },
     "execution_count": 6,
     "metadata": {},
     "output_type": "execute_result"
    }
   ],
   "source": [
    "Song.objects.create(song_title=\"Drag Queen\")\n",
    "Song.objects.create(song_title=\"Everything I Wanted\")\n",
    "Song.objects.create(song_title=\"I Dont Wanna Talk (I Just Wanna Dance)\")"
   ]
  },
  {
   "cell_type": "code",
   "execution_count": 10,
   "id": "4067b170",
   "metadata": {
    "scrolled": false
   },
   "outputs": [
    {
     "data": {
      "text/plain": [
       "<Song: Song object (4)>"
      ]
     },
     "execution_count": 10,
     "metadata": {},
     "output_type": "execute_result"
    }
   ],
   "source": [
    "is_this_it.songs.create(song_title=\"Last Nite\")"
   ]
  },
  {
   "cell_type": "code",
   "execution_count": 11,
   "id": "2314fd89",
   "metadata": {
    "scrolled": true
   },
   "outputs": [
    {
     "data": {
      "text/plain": [
       "<Song: Song object (5)>"
      ]
     },
     "execution_count": 11,
     "metadata": {},
     "output_type": "execute_result"
    }
   ],
   "source": [
    "hte.songs.create(song_title=\"NDA\")"
   ]
  },
  {
   "cell_type": "code",
   "execution_count": 14,
   "id": "c8467e49",
   "metadata": {},
   "outputs": [
    {
     "data": {
      "text/plain": [
       "<Song: Song object (6)>"
      ]
     },
     "execution_count": 14,
     "metadata": {},
     "output_type": "execute_result"
    }
   ],
   "source": [
    "dreamland.songs.create(song_title=\"Tangerine\")"
   ]
  },
  {
   "cell_type": "code",
   "execution_count": 12,
   "id": "a497ac1e",
   "metadata": {
    "scrolled": true
   },
   "outputs": [
    {
     "name": "stdout",
     "output_type": "stream",
     "text": [
      "SELECT \"restaurants_song\".\"id\", \"restaurants_song\".\"song_title\", \"restaurants_song\".\"album_id\", \"restaurants_album\".\"id\", \"restaurants_album\".\"album_title\", \"restaurants_album\".\"artist\" FROM \"restaurants_song\" LEFT OUTER JOIN \"restaurants_album\" ON (\"restaurants_song\".\"album_id\" = \"restaurants_album\".\"id\")\n"
     ]
    }
   ],
   "source": [
    "print(Song.objects.select_related(\"album\").query)"
   ]
  },
  {
   "cell_type": "code",
   "execution_count": 16,
   "id": "f80a9238",
   "metadata": {},
   "outputs": [
    {
     "name": "stdout",
     "output_type": "stream",
     "text": [
      "SELECT \"restaurants_song\".\"id\", \"restaurants_song\".\"song_title\", \"restaurants_song\".\"album_id\", \"restaurants_album\".\"id\", \"restaurants_album\".\"album_title\", \"restaurants_album\".\"artist\" FROM \"restaurants_song\" INNER JOIN \"restaurants_album\" ON (\"restaurants_song\".\"album_id\" = \"restaurants_album\".\"id\") WHERE \"restaurants_song\".\"album_id\" IS NOT NULL\n"
     ]
    }
   ],
   "source": [
    "print(Song.objects.select_related(\"album\").filter(album__isnull=False).query)"
   ]
  },
  {
   "cell_type": "code",
   "execution_count": 22,
   "id": "696f378d",
   "metadata": {
    "scrolled": true
   },
   "outputs": [
    {
     "name": "stdout",
     "output_type": "stream",
     "text": [
      "SELECT \"restaurants_song\".\"id\", \"restaurants_song\".\"song_title\", \"restaurants_song\".\"album_id\" FROM \"restaurants_song\" INNER JOIN \"restaurants_album\" ON (\"restaurants_song\".\"album_id\" = \"restaurants_album\".\"id\") WHERE \"restaurants_album\".\"album_title\" = Dreamland\n"
     ]
    }
   ],
   "source": [
    "print(Song.objects.filter(album__album_title=\"Dreamland\").query)"
   ]
  },
  {
   "cell_type": "code",
   "execution_count": 5,
   "id": "0d4f7484",
   "metadata": {
    "scrolled": true
   },
   "outputs": [
    {
     "name": "stdout",
     "output_type": "stream",
     "text": [
      "SELECT \"restaurants_song\".\"id\", \"restaurants_song\".\"song_title\", \"restaurants_song\".\"album_id\" FROM \"restaurants_song\" LEFT OUTER JOIN \"restaurants_album\" ON (\"restaurants_song\".\"album_id\" = \"restaurants_album\".\"id\") WHERE NOT (\"restaurants_album\".\"album_title\" = Dreamland AND \"restaurants_album\".\"album_title\" IS NOT NULL AND \"restaurants_song\".\"album_id\" IS NULL)\n"
     ]
    }
   ],
   "source": [
    "print(Song.objects.exclude(album__album_title=\"Dreamland\").query)"
   ]
  },
  {
   "cell_type": "code",
   "execution_count": 8,
   "id": "33320509",
   "metadata": {
    "scrolled": true
   },
   "outputs": [
    {
     "name": "stdout",
     "output_type": "stream",
     "text": [
      "SELECT \"restaurants_song\".\"id\", \"restaurants_song\".\"song_title\", \"restaurants_song\".\"album_id\" FROM \"restaurants_song\" LEFT OUTER JOIN \"restaurants_album\" ON (\"restaurants_song\".\"album_id\" = \"restaurants_album\".\"id\") WHERE NOT (\"restaurants_album\".\"album_title\" = Dreamland AND \"restaurants_album\".\"album_title\" IS NOT NULL AND \"restaurants_song\".\"album_id\" IS NOT NULL)\n"
     ]
    }
   ],
   "source": [
    "print(Song.objects.exclude(album__isnull=False, album__album_title=\"Dreamland\").query)"
   ]
  },
  {
   "cell_type": "code",
   "execution_count": 11,
   "id": "2cef1b24",
   "metadata": {
    "scrolled": false
   },
   "outputs": [
    {
     "name": "stdout",
     "output_type": "stream",
     "text": [
      "SELECT \"restaurants_album\".\"id\", \"restaurants_album\".\"album_title\", \"restaurants_album\".\"artist\" FROM \"restaurants_album\" INNER JOIN \"restaurants_song\" ON (\"restaurants_album\".\"id\" = \"restaurants_song\".\"album_id\") WHERE \"restaurants_song\".\"song_title\" = NDA\n"
     ]
    }
   ],
   "source": [
    "print(Album.objects.filter(songs__song_title=\"NDA\").query)"
   ]
  },
  {
   "cell_type": "code",
   "execution_count": 15,
   "id": "286806f2",
   "metadata": {},
   "outputs": [
    {
     "data": {
      "text/plain": [
       "<QuerySet [<Album: Album object (1)>, <Album: Album object (2)>, <Album: Album object (3)>, <Album: Album object (4)>]>"
      ]
     },
     "execution_count": 15,
     "metadata": {},
     "output_type": "execute_result"
    }
   ],
   "source": [
    "Album.objects.all()"
   ]
  }
 ],
 "metadata": {
  "kernelspec": {
   "display_name": "Django Shell-Plus",
   "language": "python",
   "name": "django_extensions"
  },
  "language_info": {
   "codemirror_mode": {
    "name": "ipython",
    "version": 3
   },
   "file_extension": ".py",
   "mimetype": "text/x-python",
   "name": "python",
   "nbconvert_exporter": "python",
   "pygments_lexer": "ipython3",
   "version": "3.8.12"
  }
 },
 "nbformat": 4,
 "nbformat_minor": 5
}
