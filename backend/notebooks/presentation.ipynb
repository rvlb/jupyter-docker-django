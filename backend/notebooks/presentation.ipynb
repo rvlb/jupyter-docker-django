{
 "cells": [
  {
   "cell_type": "markdown",
   "id": "5056d6a4",
   "metadata": {},
   "source": [
    "# What is a database index"
   ]
  },
  {
   "cell_type": "markdown",
   "id": "81911179",
   "metadata": {},
   "source": [
    "It's a data structure used to quickly locate data in a database table without having to search through all rows. It uses extra space in the disk (used to store the indexes) in order to increase speed performance. A single table can have multiple indexes, each one can be associated to one or more columns of that table."
   ]
  },
  {
   "cell_type": "markdown",
   "id": "d8ffe30e",
   "metadata": {},
   "source": [
    "# How to create an index in Django"
   ]
  },
  {
   "cell_type": "markdown",
   "id": "8cee2f72",
   "metadata": {},
   "source": [
    "Index creation on Django is done when defining the model class. Although there are multiple ways to create an index, the simplest one is to us pass the `db_index=True` kwarg in the definition of a model field.\n",
    "\n",
    "You can also set a list of `indexes` inside a model `Meta` class and defining which field(s) each index will use, as in the example below. More on the different types of indexes later.\n",
    "\n",
    "```python\n",
    "from django.db import models\n",
    "\n",
    "class MyModel(models.Model):\n",
    "    foo = models.CharField(max_length=255)\n",
    "    bar = models.CharField(max_length=255)\n",
    "    class Meta:\n",
    "        indexes = [\n",
    "            models.Index(fields=['foo']),\n",
    "            models.Index(fields=['bar']),\n",
    "        ]\n",
    "```\n",
    "\n",
    "However, Django may automatically create some indexes, even if not explicitly asked to, to optimize for the most common cases. Let's consider the following scenario:"
   ]
  },
  {
   "cell_type": "markdown",
   "id": "aa4a0a28",
   "metadata": {},
   "source": [
    "```python\n",
    "from django.db import models\n",
    "\n",
    "PLAYER_POSITION_CHOICES = [\n",
    "    ('GK', 'Goalkeeper'),\n",
    "    ('RB', 'Right back'),\n",
    "    ('CB', 'Center back'),\n",
    "    ('LB', 'Left back'),\n",
    "    ('DM', 'Defensive midfielder'),\n",
    "    ('CM', 'Central midfielder'),\n",
    "    ('AM', 'Attacking midfielder'),\n",
    "    ('CF', 'Center forward'),\n",
    "    ('RW', 'Right winger'),\n",
    "    ('LW', 'Left winger'),\n",
    "]\n",
    "\n",
    "class City(models.Model):\n",
    "    name = models.CharField(max_length=255)\n",
    "\n",
    "class Team(models.Model):\n",
    "    name = models.CharField(max_length=255)\n",
    "    tv_name = models.CharField(max_length=3, unique=True)\n",
    "    city = models.ForeignKey(City, on_delete=models.CASCADE)\n",
    "\n",
    "class Player(models.Model):\n",
    "    name = models.CharField(max_length=255)\n",
    "    position = models.CharField(max_length=2, choices=PLAYER_POSITION_CHOICES)\n",
    "    team = models.ForeignKey(Team, on_delete=models.CASCADE)\n",
    "\n",
    "class Stadium(models.Model):\n",
    "    name = models.CharField(max_length=255)\n",
    "    nickname = models.CharField(max_length=255)\n",
    "    city = models.ForeignKey(City, on_delete=models.CASCADE)\n",
    "    teams = models.ManyToManyField(Team)\n",
    "```"
   ]
  },
  {
   "cell_type": "code",
   "execution_count": 12,
   "id": "c06af539",
   "metadata": {},
   "outputs": [
    {
     "name": "stdout",
     "output_type": "stream",
     "text": [
      "BEGIN;\n",
      "--\n",
      "-- Create model City\n",
      "--\n",
      "CREATE TABLE \"teams_city\" (\"id\" bigserial NOT NULL PRIMARY KEY, \"name\" varchar(255) NOT NULL);\n",
      "--\n",
      "-- Create model Team\n",
      "--\n",
      "CREATE TABLE \"teams_team\" (\"id\" bigserial NOT NULL PRIMARY KEY, \"name\" varchar(255) NOT NULL, \"tv_name\" varchar(3) NOT NULL UNIQUE, \"city_id\" bigint NOT NULL);\n",
      "--\n",
      "-- Create model Stadium\n",
      "--\n",
      "CREATE TABLE \"teams_stadium\" (\"id\" bigserial NOT NULL PRIMARY KEY, \"name\" varchar(255) NOT NULL, \"nickname\" varchar(255) NOT NULL, \"city_id\" bigint NOT NULL);\n",
      "CREATE TABLE \"teams_stadium_teams\" (\"id\" bigserial NOT NULL PRIMARY KEY, \"stadium_id\" bigint NOT NULL, \"team_id\" bigint NOT NULL);\n",
      "--\n",
      "-- Create model Player\n",
      "--\n",
      "CREATE TABLE \"teams_player\" (\"id\" bigserial NOT NULL PRIMARY KEY, \"name\" varchar(255) NOT NULL, \"position\" varchar(2) NOT NULL, \"team_id\" bigint NOT NULL);\n",
      "ALTER TABLE \"teams_team\" ADD CONSTRAINT \"teams_team_city_id_0a7041e6_fk_teams_city_id\" FOREIGN KEY (\"city_id\") REFERENCES \"teams_city\" (\"id\") DEFERRABLE INITIALLY DEFERRED;\n",
      "CREATE INDEX \"teams_team_tv_name_7d091fee_like\" ON \"teams_team\" (\"tv_name\" varchar_pattern_ops);\n",
      "CREATE INDEX \"teams_team_city_id_0a7041e6\" ON \"teams_team\" (\"city_id\");\n",
      "ALTER TABLE \"teams_stadium\" ADD CONSTRAINT \"teams_stadium_city_id_54e53781_fk_teams_city_id\" FOREIGN KEY (\"city_id\") REFERENCES \"teams_city\" (\"id\") DEFERRABLE INITIALLY DEFERRED;\n",
      "CREATE INDEX \"teams_stadium_city_id_54e53781\" ON \"teams_stadium\" (\"city_id\");\n",
      "ALTER TABLE \"teams_stadium_teams\" ADD CONSTRAINT \"teams_stadium_teams_stadium_id_team_id_0174a71c_uniq\" UNIQUE (\"stadium_id\", \"team_id\");\n",
      "ALTER TABLE \"teams_stadium_teams\" ADD CONSTRAINT \"teams_stadium_teams_stadium_id_1521a159_fk_teams_stadium_id\" FOREIGN KEY (\"stadium_id\") REFERENCES \"teams_stadium\" (\"id\") DEFERRABLE INITIALLY DEFERRED;\n",
      "ALTER TABLE \"teams_stadium_teams\" ADD CONSTRAINT \"teams_stadium_teams_team_id_57c6bc0d_fk_teams_team_id\" FOREIGN KEY (\"team_id\") REFERENCES \"teams_team\" (\"id\") DEFERRABLE INITIALLY DEFERRED;\n",
      "CREATE INDEX \"teams_stadium_teams_stadium_id_1521a159\" ON \"teams_stadium_teams\" (\"stadium_id\");\n",
      "CREATE INDEX \"teams_stadium_teams_team_id_57c6bc0d\" ON \"teams_stadium_teams\" (\"team_id\");\n",
      "ALTER TABLE \"teams_player\" ADD CONSTRAINT \"teams_player_team_id_4ee5cf70_fk_teams_team_id\" FOREIGN KEY (\"team_id\") REFERENCES \"teams_team\" (\"id\") DEFERRABLE INITIALLY DEFERRED;\n",
      "CREATE INDEX \"teams_player_team_id_4ee5cf70\" ON \"teams_player\" (\"team_id\");\n",
      "COMMIT;\n"
     ]
    }
   ],
   "source": [
    "%%sh\n",
    "django-admin sqlmigrate teams 0001"
   ]
  },
  {
   "cell_type": "markdown",
   "id": "eb5e1fa8",
   "metadata": {},
   "source": [
    "By running `sqlmigrate`, we can inspect the SQL that Django will execute to create the table.\n",
    "\n",
    "Notice how it calls `CREATE INDEX` multiple times, even though we never explicitly define a single index for any of our fields.\n",
    "\n",
    "```sql\n",
    "CREATE INDEX \"teams_team_city_id_0a7041e6\" ON \"teams_team\" (\"city_id\");\n",
    "CREATE INDEX \"teams_stadium_city_id_54e53781\" ON \"teams_stadium\" (\"city_id\");\n",
    "CREATE INDEX \"teams_player_team_id_4ee5cf70\" ON \"teams_player\" (\"team_id\");\n",
    "CREATE INDEX \"teams_stadium_teams_stadium_id_1521a159\" ON \"teams_stadium_teams\" (\"stadium_id\");\n",
    "CREATE INDEX \"teams_stadium_teams_team_id_57c6bc0d\" ON \"teams_stadium_teams\" (\"team_id\");\n",
    "```\n",
    "\n",
    "The indexes above are created to optimize the queries we make to access our one-to-many/many-to-many fields, but there's another index there that's used for the `tv_name` field.\n",
    "```sql\n",
    "CREATE INDEX \"teams_team_tv_name_7d091fee_like\" ON \"teams_team\" (\"tv_name\" varchar_pattern_ops);\n",
    "```\n",
    "\n",
    "This last index is created because we defined `tv_name` as `unique=True` directly in the field declaration. It will use the `varchar_pattern_ops` PostgreSQL function to try to pattern match incoming values with the values stored in the database. Maybe you don't need that extra optimization. In our case, `tv_name` is a short string (only 3 characters) and represents the name of the teams that will be displayed in the TV broadcast of a football match between them (i.e.: SAO for São Paulo, SAN for Santos, SAL for Salgueiro, etc).\n",
    "\n",
    "In this context of short names where we can even have names that are almost the same, maybe running a full equality comparison is enough in terms of speed, and can save us some valuable database space. As we still want `tv_name` to be unique, we can remove `unique=True` from the field and create a unique constraint in the model `Meta` class.\n",
    "\n",
    "```python\n",
    "class Team(models.Model):\n",
    "    name = models.CharField(max_length=255)\n",
    "    tv_name = models.CharField(max_length=3)\n",
    "    city = models.ForeignKey(City, on_delete=models.CASCADE)\n",
    "\n",
    "    class Meta:\n",
    "        constraints = [\n",
    "            models.UniqueConstraint(\n",
    "                fields=['tv_name'],\n",
    "                name='%(app_label)s_%(class)s_tv_name_unique',\n",
    "            ),\n",
    "        ]\n",
    "```"
   ]
  },
  {
   "cell_type": "code",
   "execution_count": 1,
   "id": "ba6465fe",
   "metadata": {},
   "outputs": [
    {
     "name": "stdout",
     "output_type": "stream",
     "text": [
      "BEGIN;\n",
      "--\n",
      "-- Alter field tv_name on team\n",
      "--\n",
      "DROP INDEX IF EXISTS \"teams_team_tv_name_7d091fee_like\";\n",
      "--\n",
      "-- Create constraint teams_team_tv_name_unique on model team\n",
      "--\n",
      "ALTER TABLE \"teams_team\" ADD CONSTRAINT \"teams_team_tv_name_unique\" UNIQUE (\"tv_name\");\n",
      "COMMIT;\n"
     ]
    }
   ],
   "source": [
    "%%sh\n",
    "django-admin sqlmigrate teams 0002"
   ]
  },
  {
   "cell_type": "markdown",
   "id": "9c519191",
   "metadata": {},
   "source": [
    "# Types of indexes"
   ]
  },
  {
   "cell_type": "code",
   "execution_count": null,
   "id": "0531a672",
   "metadata": {},
   "outputs": [],
   "source": []
  },
  {
   "cell_type": "markdown",
   "id": "8eb9c1ea",
   "metadata": {},
   "source": [
    "# Tradeoffs"
   ]
  },
  {
   "cell_type": "code",
   "execution_count": null,
   "id": "27b836c7",
   "metadata": {},
   "outputs": [],
   "source": [
    "# Space x Time, show examples were optimizing for the fastest speed will end up taking a lot of space in disk"
   ]
  }
 ],
 "metadata": {
  "kernelspec": {
   "display_name": "Django Shell-Plus",
   "language": "python",
   "name": "django_extensions"
  },
  "language_info": {
   "codemirror_mode": {
    "name": "ipython",
    "version": 3
   },
   "file_extension": ".py",
   "mimetype": "text/x-python",
   "name": "python",
   "nbconvert_exporter": "python",
   "pygments_lexer": "ipython3",
   "version": "3.8.12"
  }
 },
 "nbformat": 4,
 "nbformat_minor": 5
}
