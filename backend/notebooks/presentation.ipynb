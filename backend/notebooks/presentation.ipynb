{
 "cells": [
  {
   "cell_type": "markdown",
   "id": "5056d6a4",
   "metadata": {},
   "source": [
    "# What is a database index"
   ]
  },
  {
   "cell_type": "markdown",
   "id": "81911179",
   "metadata": {},
   "source": [
    "It's a data structure used to quickly locate data in a database table without having to search through all rows. It uses extra space in the disk (used to store the indexes) in order to increase speed performance. A single table can have multiple indexes, each one can be associated to one or more columns of that table."
   ]
  },
  {
   "cell_type": "markdown",
   "id": "d8ffe30e",
   "metadata": {},
   "source": [
    "# How to create an index in Django"
   ]
  },
  {
   "cell_type": "markdown",
   "id": "8cee2f72",
   "metadata": {},
   "source": [
    "Index creation on Django is done when defining the model class. Although there are multiple ways to create an index, the simplest one is to us pass the `db_index=True` kwarg in the definition of a model field.\n",
    "\n",
    "You can also set a list of `indexes` inside a model `Meta` class and define which field(s) each index will use, as in the example below. More on the different types of indexes later.\n",
    "\n",
    "```python\n",
    "from django.db import models\n",
    "\n",
    "class MyModel(models.Model):\n",
    "    foo = models.CharField(max_length=255)\n",
    "    bar = models.CharField(max_length=255)\n",
    "    class Meta:\n",
    "        indexes = [\n",
    "            models.Index(fields=['foo']),\n",
    "            models.Index(fields=['bar']),\n",
    "        ]\n",
    "```\n",
    "\n",
    "However, Django may automatically create some indexes, even if not explicitly asked to, to optimize for the most common cases. Let's consider the following scenario:"
   ]
  },
  {
   "cell_type": "markdown",
   "id": "aa4a0a28",
   "metadata": {},
   "source": [
    "```python\n",
    "from django.db import models\n",
    "\n",
    "class Team(models.Model):\n",
    "    name = models.CharField(max_length=255)\n",
    "    tv_name = models.CharField(max_length=4, unique=True)\n",
    "    city = models.CharField(max_length=255)\n",
    "\n",
    "class Player(models.Model):\n",
    "    name = models.CharField(max_length=255)\n",
    "    position = models.CharField(max_length=2)\n",
    "    team = models.ForeignKey(Team, on_delete=models.CASCADE)\n",
    "\n",
    "class Stadium(models.Model):\n",
    "    name = models.CharField(max_length=255)\n",
    "    nickname = models.CharField(max_length=255)\n",
    "    teams = models.ManyToManyField(Team)\n",
    "```"
   ]
  },
  {
   "cell_type": "code",
   "execution_count": 1,
   "id": "c06af539",
   "metadata": {},
   "outputs": [
    {
     "name": "stdout",
     "output_type": "stream",
     "text": [
      "BEGIN;\n",
      "--\n",
      "-- Create model Team\n",
      "--\n",
      "CREATE TABLE \"teams_team\" (\"id\" bigserial NOT NULL PRIMARY KEY, \"name\" varchar(255) NOT NULL, \"tv_name\" varchar(4) NOT NULL UNIQUE, \"city\" varchar(255) NOT NULL);\n",
      "--\n",
      "-- Create model Stadium\n",
      "--\n",
      "CREATE TABLE \"teams_stadium\" (\"id\" bigserial NOT NULL PRIMARY KEY, \"name\" varchar(255) NOT NULL, \"nickname\" varchar(255) NOT NULL);\n",
      "CREATE TABLE \"teams_stadium_teams\" (\"id\" bigserial NOT NULL PRIMARY KEY, \"stadium_id\" bigint NOT NULL, \"team_id\" bigint NOT NULL);\n",
      "--\n",
      "-- Create model Player\n",
      "--\n",
      "CREATE TABLE \"teams_player\" (\"id\" bigserial NOT NULL PRIMARY KEY, \"name\" varchar(255) NOT NULL, \"position\" varchar(2) NOT NULL, \"team_id\" bigint NOT NULL);\n",
      "CREATE INDEX \"teams_team_tv_name_7d091fee_like\" ON \"teams_team\" (\"tv_name\" varchar_pattern_ops);\n",
      "ALTER TABLE \"teams_stadium_teams\" ADD CONSTRAINT \"teams_stadium_teams_stadium_id_team_id_0174a71c_uniq\" UNIQUE (\"stadium_id\", \"team_id\");\n",
      "ALTER TABLE \"teams_stadium_teams\" ADD CONSTRAINT \"teams_stadium_teams_stadium_id_1521a159_fk_teams_stadium_id\" FOREIGN KEY (\"stadium_id\") REFERENCES \"teams_stadium\" (\"id\") DEFERRABLE INITIALLY DEFERRED;\n",
      "ALTER TABLE \"teams_stadium_teams\" ADD CONSTRAINT \"teams_stadium_teams_team_id_57c6bc0d_fk_teams_team_id\" FOREIGN KEY (\"team_id\") REFERENCES \"teams_team\" (\"id\") DEFERRABLE INITIALLY DEFERRED;\n",
      "CREATE INDEX \"teams_stadium_teams_stadium_id_1521a159\" ON \"teams_stadium_teams\" (\"stadium_id\");\n",
      "CREATE INDEX \"teams_stadium_teams_team_id_57c6bc0d\" ON \"teams_stadium_teams\" (\"team_id\");\n",
      "ALTER TABLE \"teams_player\" ADD CONSTRAINT \"teams_player_team_id_4ee5cf70_fk_teams_team_id\" FOREIGN KEY (\"team_id\") REFERENCES \"teams_team\" (\"id\") DEFERRABLE INITIALLY DEFERRED;\n",
      "CREATE INDEX \"teams_player_team_id_4ee5cf70\" ON \"teams_player\" (\"team_id\");\n",
      "COMMIT;\n"
     ]
    }
   ],
   "source": [
    "%%sh\n",
    "django-admin sqlmigrate teams 0001"
   ]
  },
  {
   "cell_type": "markdown",
   "id": "eb5e1fa8",
   "metadata": {},
   "source": [
    "By running `sqlmigrate`, we can inspect the SQL that Django will execute to create the table.\n",
    "\n",
    "Notice how it calls `CREATE INDEX` multiple times, even though we never explicitly define a single index for any of our fields.\n",
    "\n",
    "```sql\n",
    "CREATE INDEX \"teams_stadium_teams_stadium_id_1521a159\" ON \"teams_stadium_teams\" (\"stadium_id\");\n",
    "CREATE INDEX \"teams_stadium_teams_team_id_57c6bc0d\" ON \"teams_stadium_teams\" (\"team_id\");\n",
    "CREATE INDEX \"teams_player_team_id_4ee5cf70\" ON \"teams_player\" (\"team_id\");\n",
    "```\n",
    "\n",
    "The indexes above are automatically created to optimize the queries we make to access our one-to-many/many-to-many fields. You c\n",
    "\n",
    "There's another interesting index there that's used for the `tv_name` field.\n",
    "```sql\n",
    "CREATE INDEX \"teams_team_tv_name_7d091fee_like\" ON \"teams_team\" (\"tv_name\" varchar_pattern_ops);\n",
    "```\n",
    "\n",
    "This last index is created because we defined `tv_name` as `unique=True` directly in the field declaration. It will use the `varchar_pattern_ops` PostgreSQL function to try to pattern match incoming values with the values stored in the database. Maybe you don't need that extra optimization. In our case, `tv_name` is a short string (only 4 characters) and represents the name of the teams that will be displayed in the TV broadcast of a football match between them (i.e.: MUFC for Manchester United, RMAD for Real Madrid, ROMA for Roma, etc). We'll talk more about this index when discussing the tradeoffs.\n",
    "\n",
    "In this context of short names where we can even have names that are almost the same, maybe running a full equality comparison is enough in terms of speed, and can save us some valuable database space.\n",
    "\n",
    "As we still want `tv_name` to be unique, we can remove `unique=True` from the field and create a unique constraint in the model `Meta` class. For this presentation, we'll create a new field on our model (`tv_name_without_unique`) so we can compare performance with the original field.\n",
    "\n",
    "```python\n",
    "class Team(models.Model):\n",
    "    name = models.CharField(max_length=255)\n",
    "\n",
    "    tv_name = models.CharField(max_length=4, unique=True)\n",
    "    tv_name_without_unique = models.CharField(max_length=4)\n",
    "\n",
    "    city = models.CharField(max_length=255)\n",
    "\n",
    "    class Meta:\n",
    "        constraints = [\n",
    "            models.UniqueConstraint(\n",
    "                fields=['tv_name_without_unique'],\n",
    "                name='%(app_label)s_%(class)s_tv_name_unique',\n",
    "            ),\n",
    "        ]\n",
    "```"
   ]
  },
  {
   "cell_type": "code",
   "execution_count": 2,
   "id": "ba6465fe",
   "metadata": {
    "scrolled": true
   },
   "outputs": [
    {
     "name": "stdout",
     "output_type": "stream",
     "text": [
      "BEGIN;\n",
      "--\n",
      "-- Add field tv_name_without_unique to team\n",
      "--\n",
      "ALTER TABLE \"teams_team\" ADD COLUMN \"tv_name_without_unique\" varchar(4) DEFAULT '' NOT NULL;\n",
      "ALTER TABLE \"teams_team\" ALTER COLUMN \"tv_name_without_unique\" DROP DEFAULT;\n",
      "--\n",
      "-- Create constraint teams_team_tv_name_unique on model team\n",
      "--\n",
      "ALTER TABLE \"teams_team\" ADD CONSTRAINT \"teams_team_tv_name_unique\" UNIQUE (\"tv_name_without_unique\");\n",
      "COMMIT;\n"
     ]
    }
   ],
   "source": [
    "%%sh\n",
    "django-admin sqlmigrate teams 0002"
   ]
  },
  {
   "cell_type": "markdown",
   "id": "5be5287a",
   "metadata": {},
   "source": [
    "Let's now populate our DB with some data, so we can compare the performance when querying these 2 fields."
   ]
  },
  {
   "cell_type": "code",
   "execution_count": 4,
   "id": "40b90980",
   "metadata": {},
   "outputs": [
    {
     "name": "stdout",
     "output_type": "stream",
     "text": [
      "Created 10000 teams...\n",
      "Created 20000 teams...\n",
      "Created 30000 teams...\n",
      "Created 40000 teams...\n",
      "Created 50000 teams...\n",
      "Created 60000 teams...\n",
      "Created 70000 teams...\n",
      "Created 80000 teams...\n",
      "Created 90000 teams...\n",
      "Created 100000 teams...\n",
      "Created 110000 teams...\n",
      "Created 120000 teams...\n",
      "Created 130000 teams...\n",
      "Created 140000 teams...\n",
      "Created 150000 teams...\n",
      "Created 160000 teams...\n",
      "Created 170000 teams...\n",
      "Created 180000 teams...\n",
      "Created 190000 teams...\n",
      "Created 200000 teams...\n",
      "Created 210000 teams...\n",
      "Created 220000 teams...\n",
      "Created 230000 teams...\n",
      "Created 240000 teams...\n",
      "Created 250000 teams...\n",
      "Created 260000 teams...\n",
      "Created 270000 teams...\n",
      "Created 280000 teams...\n",
      "Created 290000 teams...\n",
      "Created 300000 teams...\n",
      "Created 310000 teams...\n",
      "Created 320000 teams...\n",
      "Created 330000 teams...\n",
      "Created 340000 teams...\n",
      "Created 350000 teams...\n",
      "Created 360000 teams...\n",
      "Created 370000 teams...\n",
      "Created 380000 teams...\n",
      "Created 390000 teams...\n",
      "Created 400000 teams...\n",
      "Created 410000 teams...\n",
      "Created 420000 teams...\n",
      "Created 430000 teams...\n",
      "Created 440000 teams...\n",
      "Created 450000 teams...\n",
      "Finished creating teams\n"
     ]
    }
   ],
   "source": [
    "from common import scripts\n",
    "\n",
    "scripts.clear()\n",
    "\n",
    "scripts.run()"
   ]
  },
  {
   "cell_type": "code",
   "execution_count": 5,
   "id": "c9a318f4",
   "metadata": {},
   "outputs": [
    {
     "data": {
      "text/plain": [
       "456976"
      ]
     },
     "execution_count": 5,
     "metadata": {},
     "output_type": "execute_result"
    }
   ],
   "source": [
    "from teams.models import Team\n",
    "\n",
    "Team.objects.count()"
   ]
  },
  {
   "cell_type": "markdown",
   "id": "8eb9c1ea",
   "metadata": {},
   "source": [
    "# Tradeoffs"
   ]
  },
  {
   "cell_type": "markdown",
   "id": "5dfe1e85",
   "metadata": {},
   "source": [
    "Let's first see what are the sizes of the index and constraints created for the `tv_name`-like columns. We can use the database functions `pg_size_pretty` and `pg_relation_size` to help us."
   ]
  },
  {
   "cell_type": "code",
   "execution_count": 10,
   "id": "0e2c47d3",
   "metadata": {},
   "outputs": [
    {
     "data": {
      "text/plain": [
       "('10040 kB', '10040 kB', '10040 kB')"
      ]
     },
     "execution_count": 10,
     "metadata": {},
     "output_type": "execute_result"
    }
   ],
   "source": [
    "from django.db import connection\n",
    "\n",
    "with connection.cursor() as cursor:\n",
    "    cursor.execute(\n",
    "        \"\"\"\n",
    "        select\n",
    "            pg_size_pretty(pg_relation_size('teams_team_tv_name_7d091fee_like')),\n",
    "            pg_size_pretty(pg_relation_size('teams_team_tv_name_key')),\n",
    "            pg_size_pretty(pg_relation_size('teams_team_tv_name_unique'))\n",
    "        \"\"\"\n",
    "    )\n",
    "    row = cursor.fetchone()\n",
    "\n",
    "row"
   ]
  },
  {
   "cell_type": "markdown",
   "id": "b85b7153",
   "metadata": {},
   "source": [
    "For a table with 456.976 rows, Django allocated around 10MB only for each of them. You can imagine this number will grow even further if our table has more rows, which is a safe assumption when thinking of real world scenarios.\n",
    "\n",
    "Now let's compare how much time it would take for Django to query using the `tv_name` column in both versions. We'll use the `.explain(analyze=True)` to help us inspecting what'll be the strategy used to search the database."
   ]
  },
  {
   "cell_type": "code",
   "execution_count": 8,
   "id": "a67b6028",
   "metadata": {},
   "outputs": [
    {
     "name": "stdout",
     "output_type": "stream",
     "text": [
      "Index Scan using teams_team_tv_name_7d091fee_like on teams_team  (cost=0.42..8.44 rows=1 width=72) (actual time=0.040..0.042 rows=1 loops=1)\n",
      "  Index Cond: ((tv_name)::text = 'MUFC'::text)\n",
      "Planning Time: 0.105 ms\n",
      "Execution Time: 0.124 ms\n",
      "\n",
      "Index Scan using teams_team_tv_name_unique on teams_team  (cost=0.42..8.44 rows=1 width=72) (actual time=0.027..0.028 rows=1 loops=1)\n",
      "  Index Cond: ((tv_name_without_unique)::text = 'MUFC'::text)\n",
      "Planning Time: 0.067 ms\n",
      "Execution Time: 0.089 ms\n"
     ]
    }
   ],
   "source": [
    "from teams.models import Team\n",
    "\n",
    "print(Team.objects.filter(tv_name=\"MUFC\").explain(analyze=True))\n",
    "\n",
    "print()\n",
    "\n",
    "print(Team.objects.filter(tv_name_without_unique=\"MUFC\").explain(analyze=True))"
   ]
  },
  {
   "cell_type": "markdown",
   "id": "94556db5",
   "metadata": {},
   "source": [
    "We can see the difference in performance is pretty much negligible, since PostgreSQL will use the uniqueness constraint that has been added to `tv_name_without_unique` to improve performance.\n",
    "\n",
    "Now considering the scenarios and the indexes/constraints that have been created:\n",
    "\n",
    "\n",
    "- `tv_name = models.CharField(max_length=4, unique=True)`\n",
    " - `teams_team_tv_name_key` (10MB)\n",
    " - `teams_team_tv_name_7d091fee_like` (10MB)\n",
    "\n",
    "\n",
    "- `tv_name_without_unique = models.CharField(max_length=4)`\n",
    " - `teams_team_tv_name_unique` (10MB)\n",
    "\n",
    "\n",
    "It's safe to assume that the best approach is to create the field in the way we did with `tv_name_without_unique`, was the difference in performance is pretty much none and we avoid filling more space in disk."
   ]
  },
  {
   "cell_type": "markdown",
   "id": "9c519191",
   "metadata": {},
   "source": [
    "# Further optimizations"
   ]
  },
  {
   "cell_type": "markdown",
   "id": "3e4e2595",
   "metadata": {},
   "source": [
    "Let's now try some other optimizations in our models. First of all, we'll add an index to the `name` field on our `Team` model, which will end up looking like this:\n",
    "\n",
    "```python\n",
    "class Team(models.Model):\n",
    "    name = models.CharField(max_length=255)\n",
    "    name_with_index = models.CharField(max_length=255, db_index=True)\n",
    "\n",
    "    tv_name = models.CharField(max_length=4)\n",
    "    tv_name_without_unique = models.CharField(max_length=4)\n",
    "\n",
    "    city = models.CharField(max_length=255)\n",
    "\n",
    "    class Meta:\n",
    "        constraints = [\n",
    "            models.UniqueConstraint(\n",
    "                fields=['tv_name_without_unique'],\n",
    "                name='%(app_label)s_%(class)s_tv_name_unique',\n",
    "            ),\n",
    "        ]\n",
    "```"
   ]
  },
  {
   "cell_type": "code",
   "execution_count": 11,
   "id": "78e1d3cd",
   "metadata": {},
   "outputs": [
    {
     "name": "stdout",
     "output_type": "stream",
     "text": [
      "BEGIN;\n",
      "--\n",
      "-- Add field name_with_index to team\n",
      "--\n",
      "ALTER TABLE \"teams_team\" ADD COLUMN \"name_with_index\" varchar(255) DEFAULT '' NOT NULL;\n",
      "ALTER TABLE \"teams_team\" ALTER COLUMN \"name_with_index\" DROP DEFAULT;\n",
      "CREATE INDEX \"teams_team_name_with_index_1593f8bc\" ON \"teams_team\" (\"name_with_index\");\n",
      "CREATE INDEX \"teams_team_name_with_index_1593f8bc_like\" ON \"teams_team\" (\"name_with_index\" varchar_pattern_ops);\n",
      "COMMIT;\n"
     ]
    }
   ],
   "source": [
    "%%sh\n",
    "django-admin sqlmigrate teams 0003"
   ]
  },
  {
   "cell_type": "markdown",
   "id": "872a2344",
   "metadata": {},
   "source": [
    "By adding the `db_index=True` to the `name`-like column, that same `varchar_pattern_ops` index from before was created. This time, it may come useful, as pattern matching on clubs names can come handy, especially as they can be pretty large.\n",
    "\n",
    "Let's measure the impact of this change. The first query will be performed over the column with an index and the second will be done on the original column."
   ]
  },
  {
   "cell_type": "code",
   "execution_count": 12,
   "id": "2a29c02d",
   "metadata": {},
   "outputs": [
    {
     "name": "stdout",
     "output_type": "stream",
     "text": [
      "Index Scan using teams_team_name_with_index_1593f8bc_like on teams_team  (cost=0.42..8.44 rows=1 width=72) (actual time=0.022..0.022 rows=0 loops=1)\n",
      "  Index Cond: ((name_with_index)::text = 'abcdeFGHijkl'::text)\n",
      "Planning Time: 0.075 ms\n",
      "Execution Time: 0.057 ms\n",
      "\n",
      "Gather  (cost=1000.00..9233.31 rows=1 width=72) (actual time=15.206..17.381 rows=0 loops=1)\n",
      "  Workers Planned: 2\n",
      "  Workers Launched: 2\n",
      "  ->  Parallel Seq Scan on teams_team  (cost=0.00..8233.21 rows=1 width=72) (actual time=12.838..12.838 rows=0 loops=3)\n",
      "        Filter: ((name)::text = 'abcdeFGHijkl'::text)\n",
      "        Rows Removed by Filter: 152325\n",
      "Planning Time: 0.086 ms\n",
      "Execution Time: 17.425 ms\n"
     ]
    }
   ],
   "source": [
    "from teams.models import Team\n",
    "\n",
    "print(Team.objects.filter(name_with_index=\"abcdeFGHijkl\").explain(analyze=True))\n",
    "\n",
    "print()\n",
    "\n",
    "print(Team.objects.filter(name=\"abcdeFGHijkl\").explain(analyze=True))"
   ]
  },
  {
   "cell_type": "markdown",
   "id": "a7fe7c02",
   "metadata": {},
   "source": [
    "The difference is pretty visible here, with the query over the indexed field being over 300x more performatic. For this scenario, we must start analyzing the tradeoffs, as we can see in the migration that 2 new indexes have been created (meaning space in disk being allocated)."
   ]
  },
  {
   "cell_type": "code",
   "execution_count": 14,
   "id": "a655e800",
   "metadata": {},
   "outputs": [
    {
     "data": {
      "text/plain": [
       "('18 MB', '18 MB')"
      ]
     },
     "execution_count": 14,
     "metadata": {},
     "output_type": "execute_result"
    }
   ],
   "source": [
    "from django.db import connection\n",
    "\n",
    "with connection.cursor() as cursor:\n",
    "    cursor.execute(\n",
    "        \"\"\"\n",
    "        select\n",
    "            pg_size_pretty(pg_relation_size('teams_team_name_with_index_1593f8bc')),\n",
    "            pg_size_pretty(pg_relation_size('teams_team_name_with_index_1593f8bc_like'))\n",
    "        \"\"\"\n",
    "    )\n",
    "    row = cursor.fetchone()\n",
    "\n",
    "row"
   ]
  },
  {
   "cell_type": "markdown",
   "id": "d778c36a",
   "metadata": {},
   "source": [
    "## Partial indexes"
   ]
  },
  {
   "cell_type": "markdown",
   "id": "85e353a4",
   "metadata": {},
   "source": [
    "Now let's imagine we work for Globe, a company that just bought the broadcasting rights for the Zora's Domain Football Cup. We then decide to query all the teams that are from that city, so we can build a special page on our website just for that competition."
   ]
  },
  {
   "cell_type": "code",
   "execution_count": 15,
   "id": "bbe3966b",
   "metadata": {},
   "outputs": [
    {
     "data": {
      "text/plain": [
       "\"Seq Scan on teams_team  (cost=0.00..11565.50 rows=45700 width=72) (actual time=0.040..38.127 rows=45547 loops=1)\\n  Filter: ((city)::text = 'Zora''s Domain'::text)\\n  Rows Removed by Filter: 411429\\nPlanning Time: 0.137 ms\\nExecution Time: 39.246 ms\""
      ]
     },
     "execution_count": 15,
     "metadata": {},
     "output_type": "execute_result"
    }
   ],
   "source": [
    "from teams.models import Team\n",
    "\n",
    "Team.objects.filter(city=\"Zora's Domain\").explain(analyze=True)"
   ]
  },
  {
   "cell_type": "markdown",
   "id": "0e827175",
   "metadata": {},
   "source": [
    "Around 40ms is certainly \"fine\" in terms of performance, but can we do better? The answer is YES.\n",
    "\n",
    "There's a special type of index named Partial Index. It allows us to index a subset of our database that we know will be used a lot in our queries. You can, i.e.:, index a subset of teams that are from the \"Zora's Domain\" city.\n",
    "\n",
    "```python\n",
    "class Team(models.Model):\n",
    "    name = models.CharField(max_length=255)\n",
    "    name_with_index = models.CharField(max_length=255, db_index=True)\n",
    "\n",
    "    tv_name = models.CharField(max_length=4, unique=True)\n",
    "    tv_name_without_unique = models.CharField(max_length=4)\n",
    "\n",
    "    city = models.CharField(max_length=255)\n",
    "    city_with_partial_index = models.CharField(max_length=255)\n",
    "\n",
    "    class Meta:\n",
    "        constraints = [\n",
    "            models.UniqueConstraint(\n",
    "                fields=['tv_name_without_unique'],\n",
    "                name='%(app_label)s_%(class)s_tv_name_unique',\n",
    "            ),\n",
    "        ]\n",
    "        indexes = [\n",
    "            models.Index(\n",
    "                fields=['city_with_partial_index'],\n",
    "                condition=models.Q(city_with_partial_index=\"Zora's Domain\"),\n",
    "                name='%(app_label)s_%(class)s_city_zora',\n",
    "            ),\n",
    "        ]\n",
    "```\n",
    "\n",
    "We do so by adding a new index to the newly created `city`-like field, that will internally \"create a subset\" of rows that fit a given `condition` (in our case, `city == \"Zora's Domain\"`).\n",
    "\n",
    "Inspecting the migration, we see that PostgreSQL created an index for us that does exactly that."
   ]
  },
  {
   "cell_type": "code",
   "execution_count": 16,
   "id": "7d87943b",
   "metadata": {},
   "outputs": [
    {
     "name": "stdout",
     "output_type": "stream",
     "text": [
      "BEGIN;\n",
      "--\n",
      "-- Add field city_with_partial_index to team\n",
      "--\n",
      "ALTER TABLE \"teams_team\" ADD COLUMN \"city_with_partial_index\" varchar(255) DEFAULT '' NOT NULL;\n",
      "ALTER TABLE \"teams_team\" ALTER COLUMN \"city_with_partial_index\" DROP DEFAULT;\n",
      "--\n",
      "-- Create index teams_team_city_zora on field(s) city_with_partial_index of model team\n",
      "--\n",
      "CREATE INDEX \"teams_team_city_zora\" ON \"teams_team\" (\"city_with_partial_index\") WHERE \"city_with_partial_index\" = 'Zora''s Domain';\n",
      "COMMIT;\n"
     ]
    }
   ],
   "source": [
    "%%sh\n",
    "django-admin sqlmigrate teams 0004"
   ]
  },
  {
   "cell_type": "markdown",
   "id": "39b9dd17",
   "metadata": {},
   "source": [
    "Now let's compare the results:"
   ]
  },
  {
   "cell_type": "code",
   "execution_count": 17,
   "id": "33c76b07",
   "metadata": {},
   "outputs": [
    {
     "data": {
      "text/plain": [
       "\"Bitmap Heap Scan on teams_team  (cost=392.20..6816.45 rows=45700 width=72) (actual time=3.091..16.218 rows=45547 loops=1)\\n  Recheck Cond: ((city_with_partial_index)::text = 'Zora''s Domain'::text)\\n  Heap Blocks: exact=5848\\n  ->  Bitmap Index Scan on teams_team_city_zora  (cost=0.00..380.78 rows=45700 width=0) (actual time=2.425..2.426 rows=45547 loops=1)\\nPlanning Time: 0.119 ms\\nExecution Time: 17.378 ms\""
      ]
     },
     "execution_count": 17,
     "metadata": {},
     "output_type": "execute_result"
    }
   ],
   "source": [
    "from teams.models import Team\n",
    "\n",
    "Team.objects.filter(city_with_partial_index=\"Zora's Domain\").explain(analyze=True)"
   ]
  },
  {
   "cell_type": "markdown",
   "id": "bba3ffa5",
   "metadata": {},
   "source": [
    "Just by creating this index, we're able to reduce the query time in more than half of the original one. Great news!\n",
    "\n",
    "And if we compare this result with another query on the same table and column, but looking for a different city (i.e.: `Tarrey Town`), we'll see that the query has similar performance (and planning) to the not-indexed column from the legacy table."
   ]
  },
  {
   "cell_type": "code",
   "execution_count": 20,
   "id": "9c6713c7",
   "metadata": {},
   "outputs": [
    {
     "name": "stdout",
     "output_type": "stream",
     "text": [
      "Seq Scan on teams_team  (cost=0.00..11565.50 rows=47635 width=72) (actual time=0.035..36.957 rows=45397 loops=1)\n",
      "  Filter: ((city)::text = 'Tarrey Town'::text)\n",
      "  Rows Removed by Filter: 411579\n",
      "Planning Time: 0.051 ms\n",
      "Execution Time: 38.090 ms\n",
      "\n",
      "Seq Scan on teams_team  (cost=0.00..11565.50 rows=47635 width=72) (actual time=0.016..39.489 rows=45397 loops=1)\n",
      "  Filter: ((city_with_partial_index)::text = 'Tarrey Town'::text)\n",
      "  Rows Removed by Filter: 411579\n",
      "Planning Time: 0.051 ms\n",
      "Execution Time: 40.523 ms\n"
     ]
    }
   ],
   "source": [
    "from teams.models import Team\n",
    "\n",
    "print(Team.objects.filter(city=\"Tarrey Town\").explain(analyze=True))\n",
    "\n",
    "print()\n",
    "\n",
    "print(Team.objects.filter(city_with_partial_index=\"Tarrey Town\").explain(analyze=True))"
   ]
  },
  {
   "cell_type": "markdown",
   "id": "7593ccf3",
   "metadata": {},
   "source": [
    "Now let's check the space in disk that PostgreSQL took to create that index. Around 300kB, which is also great news. That's an optimization without much tradeoffs, that can be safely implemented if we have a scenario that we know we're going to repeatedly query a lot."
   ]
  },
  {
   "cell_type": "code",
   "execution_count": 22,
   "id": "a8f5f1d8",
   "metadata": {},
   "outputs": [
    {
     "data": {
      "text/plain": [
       "('304 kB',)"
      ]
     },
     "execution_count": 22,
     "metadata": {},
     "output_type": "execute_result"
    }
   ],
   "source": [
    "from django.db import connection\n",
    "\n",
    "with connection.cursor() as cursor:\n",
    "    cursor.execute(\n",
    "        \"\"\"\n",
    "        select\n",
    "            pg_size_pretty(pg_relation_size('teams_team_city_zora'))\n",
    "        \"\"\"\n",
    "    )\n",
    "    row = cursor.fetchone()\n",
    "\n",
    "row"
   ]
  },
  {
   "cell_type": "code",
   "execution_count": null,
   "id": "5573a6ac",
   "metadata": {},
   "outputs": [],
   "source": []
  }
 ],
 "metadata": {
  "kernelspec": {
   "display_name": "Django Shell-Plus",
   "language": "python",
   "name": "django_extensions"
  },
  "language_info": {
   "codemirror_mode": {
    "name": "ipython",
    "version": 3
   },
   "file_extension": ".py",
   "mimetype": "text/x-python",
   "name": "python",
   "nbconvert_exporter": "python",
   "pygments_lexer": "ipython3",
   "version": "3.8.12"
  }
 },
 "nbformat": 4,
 "nbformat_minor": 5
}
