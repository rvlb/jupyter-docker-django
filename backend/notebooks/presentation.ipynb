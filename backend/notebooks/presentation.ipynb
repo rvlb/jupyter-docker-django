{
 "cells": [
  {
   "cell_type": "markdown",
   "id": "5056d6a4",
   "metadata": {},
   "source": [
    "# What is a database index"
   ]
  },
  {
   "cell_type": "markdown",
   "id": "81911179",
   "metadata": {},
   "source": [
    "It's a data structure used to quickly locate data in a database table without having to search through all rows. It uses extra space in the disk (used to store the indexes) in order to increase speed performance. A single table can have multiple indexes, each one can be associated to one or more columns of that table."
   ]
  },
  {
   "cell_type": "markdown",
   "id": "d8ffe30e",
   "metadata": {},
   "source": [
    "# How to create an index in Django"
   ]
  },
  {
   "cell_type": "markdown",
   "id": "8cee2f72",
   "metadata": {},
   "source": [
    "Index creation on Django is done when defining the model class. Although there are multiple ways to create an index, the simplest one is to us pass the `db_index=True` kwarg in the definition of a model field.\n",
    "\n",
    "You can also set a list of `indexes` inside a model `Meta` class and defining which field(s) each index will use, as in the example below. More on the different types of indexes later.\n",
    "\n",
    "```python\n",
    "from django.db import models\n",
    "\n",
    "class MyModel(models.Model):\n",
    "    foo = models.CharField(max_length=255)\n",
    "    bar = models.CharField(max_length=255)\n",
    "    class Meta:\n",
    "        indexes = [\n",
    "            models.Index(fields=['foo']),\n",
    "            models.Index(fields=['bar']),\n",
    "        ]\n",
    "```\n",
    "\n",
    "However, Django may automatically create some indexes, even if not explicitly asked to, to optimize for the most common cases. Let's consider the following scenario:"
   ]
  },
  {
   "cell_type": "markdown",
   "id": "aa4a0a28",
   "metadata": {},
   "source": [
    "```python\n",
    "from django.db import models\n",
    "\n",
    "PLAYER_POSITION_CHOICES = [\n",
    "    ('GK', 'Goalkeeper'),\n",
    "    ('RB', 'Right back'),\n",
    "    ('CB', 'Center back'),\n",
    "    ('LB', 'Left back'),\n",
    "    ('DM', 'Defensive midfielder'),\n",
    "    ('CM', 'Central midfielder'),\n",
    "    ('AM', 'Attacking midfielder'),\n",
    "    ('CF', 'Center forward'),\n",
    "    ('RW', 'Right winger'),\n",
    "    ('LW', 'Left winger'),\n",
    "]\n",
    "\n",
    "class City(models.Model):\n",
    "    name = models.CharField(max_length=255)\n",
    "\n",
    "class Team(models.Model):\n",
    "    name = models.CharField(max_length=255)\n",
    "    tv_name = models.CharField(max_length=4, unique=True)\n",
    "    city = models.ForeignKey(City, on_delete=models.CASCADE)\n",
    "\n",
    "class Player(models.Model):\n",
    "    name = models.CharField(max_length=255)\n",
    "    position = models.CharField(max_length=2, choices=PLAYER_POSITION_CHOICES)\n",
    "    team = models.ForeignKey(Team, on_delete=models.CASCADE)\n",
    "\n",
    "class Stadium(models.Model):\n",
    "    name = models.CharField(max_length=255)\n",
    "    nickname = models.CharField(max_length=255)\n",
    "    city = models.ForeignKey(City, on_delete=models.CASCADE)\n",
    "    teams = models.ManyToManyField(Team)\n",
    "```"
   ]
  },
  {
   "cell_type": "code",
   "execution_count": 1,
   "id": "c06af539",
   "metadata": {},
   "outputs": [
    {
     "name": "stdout",
     "output_type": "stream",
     "text": [
      "BEGIN;\n",
      "--\n",
      "-- Create model City\n",
      "--\n",
      "CREATE TABLE \"teams_city\" (\"id\" bigserial NOT NULL PRIMARY KEY, \"name\" varchar(255) NOT NULL);\n",
      "--\n",
      "-- Create model Team\n",
      "--\n",
      "CREATE TABLE \"teams_team\" (\"id\" bigserial NOT NULL PRIMARY KEY, \"name\" varchar(255) NOT NULL, \"tv_name\" varchar(4) NOT NULL UNIQUE, \"city_id\" bigint NOT NULL);\n",
      "--\n",
      "-- Create model Stadium\n",
      "--\n",
      "CREATE TABLE \"teams_stadium\" (\"id\" bigserial NOT NULL PRIMARY KEY, \"name\" varchar(255) NOT NULL, \"nickname\" varchar(255) NOT NULL, \"city_id\" bigint NOT NULL);\n",
      "CREATE TABLE \"teams_stadium_teams\" (\"id\" bigserial NOT NULL PRIMARY KEY, \"stadium_id\" bigint NOT NULL, \"team_id\" bigint NOT NULL);\n",
      "--\n",
      "-- Create model Player\n",
      "--\n",
      "CREATE TABLE \"teams_player\" (\"id\" bigserial NOT NULL PRIMARY KEY, \"name\" varchar(255) NOT NULL, \"position\" varchar(2) NOT NULL, \"team_id\" bigint NOT NULL);\n",
      "ALTER TABLE \"teams_team\" ADD CONSTRAINT \"teams_team_city_id_0a7041e6_fk_teams_city_id\" FOREIGN KEY (\"city_id\") REFERENCES \"teams_city\" (\"id\") DEFERRABLE INITIALLY DEFERRED;\n",
      "CREATE INDEX \"teams_team_tv_name_7d091fee_like\" ON \"teams_team\" (\"tv_name\" varchar_pattern_ops);\n",
      "CREATE INDEX \"teams_team_city_id_0a7041e6\" ON \"teams_team\" (\"city_id\");\n",
      "ALTER TABLE \"teams_stadium\" ADD CONSTRAINT \"teams_stadium_city_id_54e53781_fk_teams_city_id\" FOREIGN KEY (\"city_id\") REFERENCES \"teams_city\" (\"id\") DEFERRABLE INITIALLY DEFERRED;\n",
      "CREATE INDEX \"teams_stadium_city_id_54e53781\" ON \"teams_stadium\" (\"city_id\");\n",
      "ALTER TABLE \"teams_stadium_teams\" ADD CONSTRAINT \"teams_stadium_teams_stadium_id_team_id_0174a71c_uniq\" UNIQUE (\"stadium_id\", \"team_id\");\n",
      "ALTER TABLE \"teams_stadium_teams\" ADD CONSTRAINT \"teams_stadium_teams_stadium_id_1521a159_fk_teams_stadium_id\" FOREIGN KEY (\"stadium_id\") REFERENCES \"teams_stadium\" (\"id\") DEFERRABLE INITIALLY DEFERRED;\n",
      "ALTER TABLE \"teams_stadium_teams\" ADD CONSTRAINT \"teams_stadium_teams_team_id_57c6bc0d_fk_teams_team_id\" FOREIGN KEY (\"team_id\") REFERENCES \"teams_team\" (\"id\") DEFERRABLE INITIALLY DEFERRED;\n",
      "CREATE INDEX \"teams_stadium_teams_stadium_id_1521a159\" ON \"teams_stadium_teams\" (\"stadium_id\");\n",
      "CREATE INDEX \"teams_stadium_teams_team_id_57c6bc0d\" ON \"teams_stadium_teams\" (\"team_id\");\n",
      "ALTER TABLE \"teams_player\" ADD CONSTRAINT \"teams_player_team_id_4ee5cf70_fk_teams_team_id\" FOREIGN KEY (\"team_id\") REFERENCES \"teams_team\" (\"id\") DEFERRABLE INITIALLY DEFERRED;\n",
      "CREATE INDEX \"teams_player_team_id_4ee5cf70\" ON \"teams_player\" (\"team_id\");\n",
      "COMMIT;\n"
     ]
    }
   ],
   "source": [
    "%%sh\n",
    "django-admin sqlmigrate teams 0001"
   ]
  },
  {
   "cell_type": "markdown",
   "id": "eb5e1fa8",
   "metadata": {},
   "source": [
    "By running `sqlmigrate`, we can inspect the SQL that Django will execute to create the table.\n",
    "\n",
    "Notice how it calls `CREATE INDEX` multiple times, even though we never explicitly define a single index for any of our fields.\n",
    "\n",
    "```sql\n",
    "CREATE INDEX \"teams_team_city_id_0a7041e6\" ON \"teams_team\" (\"city_id\");\n",
    "CREATE INDEX \"teams_stadium_city_id_54e53781\" ON \"teams_stadium\" (\"city_id\");\n",
    "CREATE INDEX \"teams_player_team_id_4ee5cf70\" ON \"teams_player\" (\"team_id\");\n",
    "CREATE INDEX \"teams_stadium_teams_stadium_id_1521a159\" ON \"teams_stadium_teams\" (\"stadium_id\");\n",
    "CREATE INDEX \"teams_stadium_teams_team_id_57c6bc0d\" ON \"teams_stadium_teams\" (\"team_id\");\n",
    "```\n",
    "\n",
    "The indexes above are created to optimize the queries we make to access our one-to-many/many-to-many fields, but there's another index there that's used for the `tv_name` field.\n",
    "```sql\n",
    "CREATE INDEX \"teams_team_tv_name_7d091fee_like\" ON \"teams_team\" (\"tv_name\" varchar_pattern_ops);\n",
    "```\n",
    "\n",
    "This last index is created because we defined `tv_name` as `unique=True` directly in the field declaration. It will use the `varchar_pattern_ops` PostgreSQL function to try to pattern match incoming values with the values stored in the database. Maybe you don't need that extra optimization. In our case, `tv_name` is a short string (only 4 characters) and represents the name of the teams that will be displayed in the TV broadcast of a football match between them (i.e.: MUFC for Manchester United, RMAD for Real Madrid, ROMA for Roma, etc). We'll talk more about this index when discussing the tradeoffs.\n",
    "\n",
    "In this context of short names where we can even have names that are almost the same, maybe running a full equality comparison is enough in terms of speed, and can save us some valuable database space. As we still want `tv_name` to be unique, we can remove `unique=True` from the field and create a unique constraint in the model `Meta` class.\n",
    "\n",
    "```python\n",
    "class Team(models.Model):\n",
    "    name = models.CharField(max_length=255)\n",
    "    tv_name = models.CharField(max_length=4)\n",
    "    city = models.ForeignKey(City, on_delete=models.CASCADE)\n",
    "\n",
    "    class Meta:\n",
    "        constraints = [\n",
    "            models.UniqueConstraint(\n",
    "                fields=['tv_name'],\n",
    "                name='%(app_label)s_%(class)s_tv_name_unique',\n",
    "            ),\n",
    "        ]\n",
    "```"
   ]
  },
  {
   "cell_type": "code",
   "execution_count": 2,
   "id": "ba6465fe",
   "metadata": {},
   "outputs": [
    {
     "name": "stdout",
     "output_type": "stream",
     "text": [
      "BEGIN;\n",
      "--\n",
      "-- Alter field tv_name on team\n",
      "--\n",
      "ALTER TABLE \"teams_team\" DROP CONSTRAINT \"teams_team_tv_name_unique\";\n",
      "DROP INDEX IF EXISTS \"teams_team_tv_name_7d091fee_like\";\n",
      "--\n",
      "-- Create constraint teams_team_tv_name_unique on model team\n",
      "--\n",
      "ALTER TABLE \"teams_team\" ADD CONSTRAINT \"teams_team_tv_name_unique\" UNIQUE (\"tv_name\");\n",
      "COMMIT;\n"
     ]
    }
   ],
   "source": [
    "%%sh\n",
    "django-admin sqlmigrate teams 0002"
   ]
  },
  {
   "cell_type": "markdown",
   "id": "5be5287a",
   "metadata": {},
   "source": [
    "Now let's populate our database using a pre-made script. For simplicity, we've duplicated the models in two different apps, one using the original version (`run_legacy`) and another using the modified version (`run`)."
   ]
  },
  {
   "cell_type": "code",
   "execution_count": 3,
   "id": "40b90980",
   "metadata": {},
   "outputs": [],
   "source": [
    "from common import scripts\n",
    "\n",
    "scripts.clear()"
   ]
  },
  {
   "cell_type": "code",
   "execution_count": 4,
   "id": "c5f9e21b",
   "metadata": {},
   "outputs": [
    {
     "name": "stdout",
     "output_type": "stream",
     "text": [
      "Finished creating cities\n",
      "Created 10000 teams...\n",
      "Created 20000 teams...\n",
      "Created 30000 teams...\n",
      "Created 40000 teams...\n",
      "Created 50000 teams...\n",
      "Created 60000 teams...\n",
      "Created 70000 teams...\n",
      "Created 80000 teams...\n",
      "Created 90000 teams...\n",
      "Created 100000 teams...\n",
      "Created 110000 teams...\n",
      "Created 120000 teams...\n",
      "Created 130000 teams...\n",
      "Created 140000 teams...\n",
      "Created 150000 teams...\n",
      "Created 160000 teams...\n",
      "Created 170000 teams...\n",
      "Created 180000 teams...\n",
      "Created 190000 teams...\n",
      "Created 200000 teams...\n",
      "Created 210000 teams...\n",
      "Created 220000 teams...\n",
      "Created 230000 teams...\n",
      "Created 240000 teams...\n",
      "Created 250000 teams...\n",
      "Created 260000 teams...\n",
      "Created 270000 teams...\n",
      "Created 280000 teams...\n",
      "Created 290000 teams...\n",
      "Created 300000 teams...\n",
      "Created 310000 teams...\n",
      "Created 320000 teams...\n",
      "Created 330000 teams...\n",
      "Created 340000 teams...\n",
      "Created 350000 teams...\n",
      "Created 360000 teams...\n",
      "Created 370000 teams...\n",
      "Created 380000 teams...\n",
      "Created 390000 teams...\n",
      "Created 400000 teams...\n",
      "Created 410000 teams...\n",
      "Created 420000 teams...\n",
      "Created 430000 teams...\n",
      "Created 440000 teams...\n",
      "Created 450000 teams...\n",
      "Finished creating teams\n",
      "CPU times: user 4min 40s, sys: 30.3 s, total: 5min 10s\n",
      "Wall time: 12min 21s\n"
     ]
    }
   ],
   "source": [
    "%%time\n",
    "scripts.run()"
   ]
  },
  {
   "cell_type": "code",
   "execution_count": 5,
   "id": "c9a318f4",
   "metadata": {},
   "outputs": [
    {
     "data": {
      "text/plain": [
       "(456976, 10)"
      ]
     },
     "execution_count": 5,
     "metadata": {},
     "output_type": "execute_result"
    }
   ],
   "source": [
    "from teams.models import City, Team\n",
    "\n",
    "teams = Team.objects.count()\n",
    "cities = City.objects.count()\n",
    "\n",
    "(teams, cities)"
   ]
  },
  {
   "cell_type": "code",
   "execution_count": 6,
   "id": "6364d231",
   "metadata": {},
   "outputs": [
    {
     "name": "stdout",
     "output_type": "stream",
     "text": [
      "Finished creating cities\n",
      "Created 10000 teams...\n",
      "Created 20000 teams...\n",
      "Created 30000 teams...\n",
      "Created 40000 teams...\n",
      "Created 50000 teams...\n",
      "Created 60000 teams...\n",
      "Created 70000 teams...\n",
      "Created 80000 teams...\n",
      "Created 90000 teams...\n",
      "Created 100000 teams...\n",
      "Created 110000 teams...\n",
      "Created 120000 teams...\n",
      "Created 130000 teams...\n",
      "Created 140000 teams...\n",
      "Created 150000 teams...\n",
      "Created 160000 teams...\n",
      "Created 170000 teams...\n",
      "Created 180000 teams...\n",
      "Created 190000 teams...\n",
      "Created 200000 teams...\n",
      "Created 210000 teams...\n",
      "Created 220000 teams...\n",
      "Created 230000 teams...\n",
      "Created 240000 teams...\n",
      "Created 250000 teams...\n",
      "Created 260000 teams...\n",
      "Created 270000 teams...\n",
      "Created 280000 teams...\n",
      "Created 290000 teams...\n",
      "Created 300000 teams...\n",
      "Created 310000 teams...\n",
      "Created 320000 teams...\n",
      "Created 330000 teams...\n",
      "Created 340000 teams...\n",
      "Created 350000 teams...\n",
      "Created 360000 teams...\n",
      "Created 370000 teams...\n",
      "Created 380000 teams...\n",
      "Created 390000 teams...\n",
      "Created 400000 teams...\n",
      "Created 410000 teams...\n",
      "Created 420000 teams...\n",
      "Created 430000 teams...\n",
      "Created 440000 teams...\n",
      "Created 450000 teams...\n",
      "Finished creating teams\n",
      "CPU times: user 4min 41s, sys: 31.7 s, total: 5min 12s\n",
      "Wall time: 12min 31s\n"
     ]
    }
   ],
   "source": [
    "%%time\n",
    "scripts.run_legacy()"
   ]
  },
  {
   "cell_type": "code",
   "execution_count": 7,
   "id": "9ec053b2",
   "metadata": {},
   "outputs": [
    {
     "data": {
      "text/plain": [
       "(456976, 10)"
      ]
     },
     "execution_count": 7,
     "metadata": {},
     "output_type": "execute_result"
    }
   ],
   "source": [
    "from legacy_teams.models import City as LegacyCity, Team as LegacyTeam\n",
    "\n",
    "teams = LegacyTeam.objects.count()\n",
    "cities = LegacyCity.objects.count()\n",
    "\n",
    "(teams, cities)"
   ]
  },
  {
   "cell_type": "markdown",
   "id": "9c519191",
   "metadata": {},
   "source": [
    "# Further optimizations"
   ]
  },
  {
   "cell_type": "code",
   "execution_count": null,
   "id": "0531a672",
   "metadata": {},
   "outputs": [],
   "source": []
  },
  {
   "cell_type": "markdown",
   "id": "8eb9c1ea",
   "metadata": {},
   "source": [
    "# Tradeoffs"
   ]
  },
  {
   "cell_type": "markdown",
   "id": "5dfe1e85",
   "metadata": {},
   "source": [
    "Let's see what's the size of the indexes and constraints that Django created automatically for the `tv_name` column on both tables. We can use the database functions `pg_size_pretty` and `pg_relation_size` to help us."
   ]
  },
  {
   "cell_type": "code",
   "execution_count": 27,
   "id": "0e2c47d3",
   "metadata": {},
   "outputs": [
    {
     "data": {
      "text/plain": [
       "('10040 kB',)"
      ]
     },
     "execution_count": 27,
     "metadata": {},
     "output_type": "execute_result"
    }
   ],
   "source": [
    "from django.db import connection\n",
    "\n",
    "with connection.cursor() as cursor:\n",
    "    cursor.execute(\n",
    "        \"\"\"\n",
    "        select\n",
    "            pg_size_pretty(pg_relation_size('legacy_teams_team_tv_name_ec392eeb_like'))\n",
    "        \"\"\"\n",
    "    )\n",
    "    row = cursor.fetchone()\n",
    "\n",
    "row"
   ]
  },
  {
   "cell_type": "markdown",
   "id": "b85b7153",
   "metadata": {},
   "source": [
    "For a table with 456.976 rows, Django allocated around 10MB only for that index. You can imagine this number will grow even further if our table has more rows, which is a safe assumption when thinking of real world scenarios.\n",
    "\n",
    "Now let's compare how many time it would take for Django to run the same query on both `Team` tables."
   ]
  },
  {
   "cell_type": "code",
   "execution_count": 11,
   "id": "823c48e2",
   "metadata": {},
   "outputs": [],
   "source": [
    "from teams.models import Team\n",
    "from legacy_teams.models import Team as LegacyTeam"
   ]
  },
  {
   "cell_type": "code",
   "execution_count": 23,
   "id": "a67b6028",
   "metadata": {},
   "outputs": [
    {
     "name": "stdout",
     "output_type": "stream",
     "text": [
      "85.9 µs ± 478 ns per loop (mean ± std. dev. of 7 runs, 10,000 loops each)\n"
     ]
    }
   ],
   "source": [
    "%%timeit\n",
    "LegacyTeam.objects.filter(tv_name__startswith=\"M\").select_related(\"city\")"
   ]
  },
  {
   "cell_type": "code",
   "execution_count": 24,
   "id": "b03b3389",
   "metadata": {},
   "outputs": [
    {
     "name": "stdout",
     "output_type": "stream",
     "text": [
      "86 µs ± 235 ns per loop (mean ± std. dev. of 7 runs, 10,000 loops each)\n"
     ]
    }
   ],
   "source": [
    "%%timeit\n",
    "Team.objects.filter(tv_name__startswith=\"M\").select_related(\"city\")"
   ]
  },
  {
   "cell_type": "markdown",
   "id": "3bc0d2d6",
   "metadata": {},
   "source": [
    "We can see that the difference here is pretty much negligible (although our table is pretty small) and we save space in disk by not keeping the automatically created index."
   ]
  },
  {
   "cell_type": "code",
   "execution_count": null,
   "id": "ebf78d7b",
   "metadata": {},
   "outputs": [],
   "source": []
  }
 ],
 "metadata": {
  "kernelspec": {
   "display_name": "Django Shell-Plus",
   "language": "python",
   "name": "django_extensions"
  },
  "language_info": {
   "codemirror_mode": {
    "name": "ipython",
    "version": 3
   },
   "file_extension": ".py",
   "mimetype": "text/x-python",
   "name": "python",
   "nbconvert_exporter": "python",
   "pygments_lexer": "ipython3",
   "version": "3.8.12"
  }
 },
 "nbformat": 4,
 "nbformat_minor": 5
}
