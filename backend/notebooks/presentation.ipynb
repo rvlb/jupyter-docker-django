{
 "cells": [
  {
   "cell_type": "markdown",
   "id": "5056d6a4",
   "metadata": {},
   "source": [
    "# What is a database index"
   ]
  },
  {
   "cell_type": "markdown",
   "id": "81911179",
   "metadata": {},
   "source": [
    "It's a data structure used to quickly locate data in a database table without having to search through all rows. It uses extra space in the disk (used to store the indexes) in order to increase speed performance. A single table can have multiple indexes, each one can be associated to one or more columns of that table."
   ]
  },
  {
   "cell_type": "markdown",
   "id": "d8ffe30e",
   "metadata": {},
   "source": [
    "# How to create an index in Django"
   ]
  },
  {
   "cell_type": "markdown",
   "id": "8cee2f72",
   "metadata": {},
   "source": [
    "Index creation on Django is done when defining the model class. Although there are multiple ways to create an index, the simplest one is to us pass the `db_index=True` kwarg in the definition of a model field.\n",
    "\n",
    "You can also set a list of `indexes` inside a model `Meta` class and define which field(s) each index will use, as in the example below. More on the different types of indexes later.\n",
    "\n",
    "```python\n",
    "from django.db import models\n",
    "\n",
    "class MyModel(models.Model):\n",
    "    foo = models.CharField(max_length=255)\n",
    "    bar = models.CharField(max_length=255)\n",
    "    class Meta:\n",
    "        indexes = [\n",
    "            models.Index(fields=['foo']),\n",
    "            models.Index(fields=['bar']),\n",
    "        ]\n",
    "```\n",
    "\n",
    "However, Django may automatically create some indexes, even if not explicitly asked to, to optimize for the most common cases. Let's consider the following scenario:"
   ]
  },
  {
   "cell_type": "markdown",
   "id": "aa4a0a28",
   "metadata": {},
   "source": [
    "```python\n",
    "from django.db import models\n",
    "\n",
    "class Team(models.Model):\n",
    "    name = models.CharField(max_length=255)\n",
    "    tv_name = models.CharField(max_length=4, unique=True)\n",
    "    city = models.CharField(max_length=255)\n",
    "\n",
    "class Player(models.Model):\n",
    "    name = models.CharField(max_length=255)\n",
    "    position = models.CharField(max_length=2)\n",
    "    team = models.ForeignKey(Team, on_delete=models.CASCADE)\n",
    "\n",
    "class Stadium(models.Model):\n",
    "    name = models.CharField(max_length=255)\n",
    "    nickname = models.CharField(max_length=255)\n",
    "    teams = models.ManyToManyField(Team)\n",
    "```"
   ]
  },
  {
   "cell_type": "code",
   "execution_count": 1,
   "id": "c06af539",
   "metadata": {},
   "outputs": [
    {
     "name": "stdout",
     "output_type": "stream",
     "text": [
      "BEGIN;\n",
      "--\n",
      "-- Create model Team\n",
      "--\n",
      "CREATE TABLE \"teams_team\" (\"id\" bigserial NOT NULL PRIMARY KEY, \"name\" varchar(255) NOT NULL, \"tv_name\" varchar(4) NOT NULL UNIQUE, \"city\" varchar(255) NOT NULL);\n",
      "--\n",
      "-- Create model Stadium\n",
      "--\n",
      "CREATE TABLE \"teams_stadium\" (\"id\" bigserial NOT NULL PRIMARY KEY, \"name\" varchar(255) NOT NULL, \"nickname\" varchar(255) NOT NULL);\n",
      "CREATE TABLE \"teams_stadium_teams\" (\"id\" bigserial NOT NULL PRIMARY KEY, \"stadium_id\" bigint NOT NULL, \"team_id\" bigint NOT NULL);\n",
      "--\n",
      "-- Create model Player\n",
      "--\n",
      "CREATE TABLE \"teams_player\" (\"id\" bigserial NOT NULL PRIMARY KEY, \"name\" varchar(255) NOT NULL, \"position\" varchar(2) NOT NULL, \"team_id\" bigint NOT NULL);\n",
      "CREATE INDEX \"teams_team_tv_name_7d091fee_like\" ON \"teams_team\" (\"tv_name\" varchar_pattern_ops);\n",
      "ALTER TABLE \"teams_stadium_teams\" ADD CONSTRAINT \"teams_stadium_teams_stadium_id_team_id_0174a71c_uniq\" UNIQUE (\"stadium_id\", \"team_id\");\n",
      "ALTER TABLE \"teams_stadium_teams\" ADD CONSTRAINT \"teams_stadium_teams_stadium_id_1521a159_fk_teams_stadium_id\" FOREIGN KEY (\"stadium_id\") REFERENCES \"teams_stadium\" (\"id\") DEFERRABLE INITIALLY DEFERRED;\n",
      "ALTER TABLE \"teams_stadium_teams\" ADD CONSTRAINT \"teams_stadium_teams_team_id_57c6bc0d_fk_teams_team_id\" FOREIGN KEY (\"team_id\") REFERENCES \"teams_team\" (\"id\") DEFERRABLE INITIALLY DEFERRED;\n",
      "CREATE INDEX \"teams_stadium_teams_stadium_id_1521a159\" ON \"teams_stadium_teams\" (\"stadium_id\");\n",
      "CREATE INDEX \"teams_stadium_teams_team_id_57c6bc0d\" ON \"teams_stadium_teams\" (\"team_id\");\n",
      "ALTER TABLE \"teams_player\" ADD CONSTRAINT \"teams_player_team_id_4ee5cf70_fk_teams_team_id\" FOREIGN KEY (\"team_id\") REFERENCES \"teams_team\" (\"id\") DEFERRABLE INITIALLY DEFERRED;\n",
      "CREATE INDEX \"teams_player_team_id_4ee5cf70\" ON \"teams_player\" (\"team_id\");\n",
      "COMMIT;\n"
     ]
    }
   ],
   "source": [
    "%%sh\n",
    "django-admin sqlmigrate teams 0001"
   ]
  },
  {
   "cell_type": "markdown",
   "id": "eb5e1fa8",
   "metadata": {},
   "source": [
    "By running `sqlmigrate`, we can inspect the SQL that Django will execute to create the table.\n",
    "\n",
    "Notice how it calls `CREATE INDEX` multiple times, even though we never explicitly define a single index for any of our fields.\n",
    "\n",
    "```sql\n",
    "CREATE INDEX \"teams_stadium_teams_stadium_id_1521a159\" ON \"teams_stadium_teams\" (\"stadium_id\");\n",
    "CREATE INDEX \"teams_stadium_teams_team_id_57c6bc0d\" ON \"teams_stadium_teams\" (\"team_id\");\n",
    "CREATE INDEX \"teams_player_team_id_4ee5cf70\" ON \"teams_player\" (\"team_id\");\n",
    "```\n",
    "\n",
    "The indexes above are created to optimize the queries we make to access our one-to-many/many-to-many fields, but there's another index there that's used for the `tv_name` field.\n",
    "```sql\n",
    "CREATE INDEX \"teams_team_tv_name_7d091fee_like\" ON \"teams_team\" (\"tv_name\" varchar_pattern_ops);\n",
    "```\n",
    "\n",
    "This last index is created because we defined `tv_name` as `unique=True` directly in the field declaration. It will use the `varchar_pattern_ops` PostgreSQL function to try to pattern match incoming values with the values stored in the database. Maybe you don't need that extra optimization. In our case, `tv_name` is a short string (only 4 characters) and represents the name of the teams that will be displayed in the TV broadcast of a football match between them (i.e.: MUFC for Manchester United, RMAD for Real Madrid, ROMA for Roma, etc). We'll talk more about this index when discussing the tradeoffs.\n",
    "\n",
    "In this context of short names where we can even have names that are almost the same, maybe running a full equality comparison is enough in terms of speed, and can save us some valuable database space. As we still want `tv_name` to be unique, we can remove `unique=True` from the field and create a unique constraint in the model `Meta` class.\n",
    "\n",
    "```python\n",
    "class Team(models.Model):\n",
    "    name = models.CharField(max_length=255)\n",
    "    tv_name = models.CharField(max_length=4)\n",
    "    city = models.CharField(max_length=255)\n",
    "\n",
    "    class Meta:\n",
    "        constraints = [\n",
    "            models.UniqueConstraint(\n",
    "                fields=['tv_name'],\n",
    "                name='%(app_label)s_%(class)s_tv_name_unique',\n",
    "            ),\n",
    "        ]\n",
    "```"
   ]
  },
  {
   "cell_type": "code",
   "execution_count": 2,
   "id": "ba6465fe",
   "metadata": {},
   "outputs": [
    {
     "name": "stdout",
     "output_type": "stream",
     "text": [
      "BEGIN;\n",
      "--\n",
      "-- Alter field tv_name on team\n",
      "--\n",
      "ALTER TABLE \"teams_team\" DROP CONSTRAINT \"teams_team_tv_name_unique\";\n",
      "DROP INDEX IF EXISTS \"teams_team_tv_name_7d091fee_like\";\n",
      "--\n",
      "-- Create constraint teams_team_tv_name_unique on model team\n",
      "--\n",
      "ALTER TABLE \"teams_team\" ADD CONSTRAINT \"teams_team_tv_name_unique\" UNIQUE (\"tv_name\");\n",
      "COMMIT;\n"
     ]
    }
   ],
   "source": [
    "%%sh\n",
    "django-admin sqlmigrate teams 0002"
   ]
  },
  {
   "cell_type": "markdown",
   "id": "5be5287a",
   "metadata": {},
   "source": [
    "Now let's populate our database using a pre-made script. For simplicity, we've duplicated the models in two different apps, one using the original version (`run_legacy`) and another using the modified version (`run`)."
   ]
  },
  {
   "cell_type": "code",
   "execution_count": 3,
   "id": "40b90980",
   "metadata": {},
   "outputs": [],
   "source": [
    "from common import scripts\n",
    "\n",
    "scripts.clear()"
   ]
  },
  {
   "cell_type": "code",
   "execution_count": 4,
   "id": "c5f9e21b",
   "metadata": {},
   "outputs": [
    {
     "name": "stdout",
     "output_type": "stream",
     "text": [
      "Created 10000 teams...\n",
      "Created 20000 teams...\n",
      "Created 30000 teams...\n",
      "Created 40000 teams...\n",
      "Created 50000 teams...\n",
      "Created 60000 teams...\n",
      "Created 70000 teams...\n",
      "Created 80000 teams...\n",
      "Created 90000 teams...\n",
      "Created 100000 teams...\n",
      "Created 110000 teams...\n",
      "Created 120000 teams...\n",
      "Created 130000 teams...\n",
      "Created 140000 teams...\n",
      "Created 150000 teams...\n",
      "Created 160000 teams...\n",
      "Created 170000 teams...\n",
      "Created 180000 teams...\n",
      "Created 190000 teams...\n",
      "Created 200000 teams...\n",
      "Created 210000 teams...\n",
      "Created 220000 teams...\n",
      "Created 230000 teams...\n",
      "Created 240000 teams...\n",
      "Created 250000 teams...\n",
      "Created 260000 teams...\n",
      "Created 270000 teams...\n",
      "Created 280000 teams...\n",
      "Created 290000 teams...\n",
      "Created 300000 teams...\n",
      "Created 310000 teams...\n",
      "Created 320000 teams...\n",
      "Created 330000 teams...\n",
      "Created 340000 teams...\n",
      "Created 350000 teams...\n",
      "Created 360000 teams...\n",
      "Created 370000 teams...\n",
      "Created 380000 teams...\n",
      "Created 390000 teams...\n",
      "Created 400000 teams...\n",
      "Created 410000 teams...\n",
      "Created 420000 teams...\n",
      "Created 430000 teams...\n",
      "Created 440000 teams...\n",
      "Created 450000 teams...\n",
      "Finished creating teams\n",
      "CPU times: user 1min 31s, sys: 15.2 s, total: 1min 46s\n",
      "Wall time: 7min 24s\n"
     ]
    }
   ],
   "source": [
    "%%time\n",
    "scripts.run()"
   ]
  },
  {
   "cell_type": "code",
   "execution_count": 5,
   "id": "c9a318f4",
   "metadata": {},
   "outputs": [
    {
     "data": {
      "text/plain": [
       "456976"
      ]
     },
     "execution_count": 5,
     "metadata": {},
     "output_type": "execute_result"
    }
   ],
   "source": [
    "from teams.models import Team\n",
    "\n",
    "Team.objects.count()"
   ]
  },
  {
   "cell_type": "code",
   "execution_count": 6,
   "id": "6364d231",
   "metadata": {},
   "outputs": [
    {
     "name": "stdout",
     "output_type": "stream",
     "text": [
      "Created 10000 teams...\n",
      "Created 20000 teams...\n",
      "Created 30000 teams...\n",
      "Created 40000 teams...\n",
      "Created 50000 teams...\n",
      "Created 60000 teams...\n",
      "Created 70000 teams...\n",
      "Created 80000 teams...\n",
      "Created 90000 teams...\n",
      "Created 100000 teams...\n",
      "Created 110000 teams...\n",
      "Created 120000 teams...\n",
      "Created 130000 teams...\n",
      "Created 140000 teams...\n",
      "Created 150000 teams...\n",
      "Created 160000 teams...\n",
      "Created 170000 teams...\n",
      "Created 180000 teams...\n",
      "Created 190000 teams...\n",
      "Created 200000 teams...\n",
      "Created 210000 teams...\n",
      "Created 220000 teams...\n",
      "Created 230000 teams...\n",
      "Created 240000 teams...\n",
      "Created 250000 teams...\n",
      "Created 260000 teams...\n",
      "Created 270000 teams...\n",
      "Created 280000 teams...\n",
      "Created 290000 teams...\n",
      "Created 300000 teams...\n",
      "Created 310000 teams...\n",
      "Created 320000 teams...\n",
      "Created 330000 teams...\n",
      "Created 340000 teams...\n",
      "Created 350000 teams...\n",
      "Created 360000 teams...\n",
      "Created 370000 teams...\n",
      "Created 380000 teams...\n",
      "Created 390000 teams...\n",
      "Created 400000 teams...\n",
      "Created 410000 teams...\n",
      "Created 420000 teams...\n",
      "Created 430000 teams...\n",
      "Created 440000 teams...\n",
      "Created 450000 teams...\n",
      "Finished creating teams\n",
      "CPU times: user 1min 28s, sys: 16.1 s, total: 1min 44s\n",
      "Wall time: 7min 17s\n"
     ]
    }
   ],
   "source": [
    "%%time\n",
    "scripts.run_legacy()"
   ]
  },
  {
   "cell_type": "code",
   "execution_count": 7,
   "id": "9ec053b2",
   "metadata": {},
   "outputs": [
    {
     "data": {
      "text/plain": [
       "456976"
      ]
     },
     "execution_count": 7,
     "metadata": {},
     "output_type": "execute_result"
    }
   ],
   "source": [
    "from legacy_teams.models import Team as LegacyTeam\n",
    "\n",
    "LegacyTeam.objects.count()"
   ]
  },
  {
   "cell_type": "markdown",
   "id": "8eb9c1ea",
   "metadata": {},
   "source": [
    "# Tradeoffs"
   ]
  },
  {
   "cell_type": "markdown",
   "id": "5dfe1e85",
   "metadata": {},
   "source": [
    "Let's see what's the size of the indexes and constraints that Django created automatically for the `tv_name` column on both tables. We can use the database functions `pg_size_pretty` and `pg_relation_size` to help us."
   ]
  },
  {
   "cell_type": "code",
   "execution_count": 8,
   "id": "0e2c47d3",
   "metadata": {},
   "outputs": [
    {
     "data": {
      "text/plain": [
       "('10088 kB',)"
      ]
     },
     "execution_count": 8,
     "metadata": {},
     "output_type": "execute_result"
    }
   ],
   "source": [
    "from django.db import connection\n",
    "\n",
    "with connection.cursor() as cursor:\n",
    "    cursor.execute(\n",
    "        \"\"\"\n",
    "        select\n",
    "            pg_size_pretty(pg_relation_size('legacy_teams_team_tv_name_ec392eeb_like'))\n",
    "        \"\"\"\n",
    "    )\n",
    "    row = cursor.fetchone()\n",
    "\n",
    "row"
   ]
  },
  {
   "cell_type": "markdown",
   "id": "b85b7153",
   "metadata": {},
   "source": [
    "For a table with 456.976 rows, Django allocated around 10MB only for that index. You can imagine this number will grow even further if our table has more rows, which is a safe assumption when thinking of real world scenarios.\n",
    "\n",
    "Now let's compare how many time it would take for Django to run the same query on both `Team` tables. We'll use the `.explain(analyze=True)` to help us inspecting what'll be the strategy used to search the database. We can see the difference is pretty negligible, since PostgreSQL will use the uniqueness constraint that we have added to the `Team` model to increase performance."
   ]
  },
  {
   "cell_type": "code",
   "execution_count": 9,
   "id": "a67b6028",
   "metadata": {},
   "outputs": [
    {
     "data": {
      "text/plain": [
       "\"Index Scan using legacy_teams_team_tv_name_ec392eeb_like on legacy_teams_team  (cost=0.42..8.44 rows=1 width=40) (actual time=0.012..0.013 rows=1 loops=1)\\n  Index Cond: ((tv_name)::text = 'MUFC'::text)\\nPlanning Time: 0.107 ms\\nExecution Time: 0.026 ms\""
      ]
     },
     "execution_count": 9,
     "metadata": {},
     "output_type": "execute_result"
    }
   ],
   "source": [
    "from legacy_teams.models import Team as LegacyTeam\n",
    "LegacyTeam.objects.filter(tv_name=\"MUFC\").explain(analyze=True)"
   ]
  },
  {
   "cell_type": "code",
   "execution_count": 10,
   "id": "b03b3389",
   "metadata": {},
   "outputs": [
    {
     "data": {
      "text/plain": [
       "\"Index Scan using teams_team_tv_name_unique on teams_team  (cost=0.42..8.44 rows=1 width=40) (actual time=0.047..0.048 rows=1 loops=1)\\n  Index Cond: ((tv_name)::text = 'MUFC'::text)\\nPlanning Time: 0.099 ms\\nExecution Time: 0.066 ms\""
      ]
     },
     "execution_count": 10,
     "metadata": {},
     "output_type": "execute_result"
    }
   ],
   "source": [
    "from teams.models import Team\n",
    "Team.objects.filter(tv_name=\"MUFC\").explain(analyze=True)"
   ]
  },
  {
   "cell_type": "markdown",
   "id": "9c519191",
   "metadata": {},
   "source": [
    "# Further optimizations"
   ]
  },
  {
   "cell_type": "markdown",
   "id": "3e4e2595",
   "metadata": {},
   "source": [
    "Let's now try some other optimizations in our models. First of all, we'll add an index to the `name` field on our `Team` model, which will look like this:\n",
    "\n",
    "```python\n",
    "class Team(models.Model):\n",
    "    name = models.CharField(max_length=255, db_index=True)\n",
    "    tv_name = models.CharField(max_length=4)\n",
    "    city = models.CharField(max_length=255)\n",
    "\n",
    "    class Meta:\n",
    "        constraints = [\n",
    "            models.UniqueConstraint(\n",
    "                fields=['tv_name'],\n",
    "                name='%(app_label)s_%(class)s_tv_name_unique',\n",
    "            ),\n",
    "        ]\n",
    "```"
   ]
  },
  {
   "cell_type": "code",
   "execution_count": 11,
   "id": "78e1d3cd",
   "metadata": {},
   "outputs": [
    {
     "name": "stdout",
     "output_type": "stream",
     "text": [
      "BEGIN;\n",
      "--\n",
      "-- Alter field name on team\n",
      "--\n",
      "CREATE INDEX \"teams_team_name_c519f9ad\" ON \"teams_team\" (\"name\");\n",
      "CREATE INDEX \"teams_team_name_c519f9ad_like\" ON \"teams_team\" (\"name\" varchar_pattern_ops);\n",
      "COMMIT;\n"
     ]
    }
   ],
   "source": [
    "%%sh\n",
    "django-admin sqlmigrate teams 0003"
   ]
  },
  {
   "cell_type": "markdown",
   "id": "872a2344",
   "metadata": {},
   "source": [
    "By adding the `db_index=True` to the `name` column, that same `varchar_pattern_ops` index from before was created. This time, it may come useful, as pattern matching on clubs names can come handy, especially as they can be pretty large. Let's see the impact of this. The first query will be done on the table with the index (`Team`) while the second query will be executed on the `LegacyTeam` table, which doesn't have an index."
   ]
  },
  {
   "cell_type": "code",
   "execution_count": 12,
   "id": "2a29c02d",
   "metadata": {},
   "outputs": [
    {
     "data": {
      "text/plain": [
       "\"Index Scan using teams_team_name_c519f9ad_like on teams_team  (cost=0.42..8.44 rows=1 width=40) (actual time=0.062..0.062 rows=0 loops=1)\\n  Index Cond: ((name)::text = 'abcdeFGHijkl'::text)\\nPlanning Time: 0.077 ms\\nExecution Time: 0.077 ms\""
      ]
     },
     "execution_count": 12,
     "metadata": {},
     "output_type": "execute_result"
    }
   ],
   "source": [
    "from teams.models import Team\n",
    "\n",
    "Team.objects.filter(name=\"abcdeFGHijkl\").explain(analyze=True)"
   ]
  },
  {
   "cell_type": "code",
   "execution_count": 13,
   "id": "7fa2ff8a",
   "metadata": {},
   "outputs": [
    {
     "data": {
      "text/plain": [
       "\"Gather  (cost=1000.00..7379.18 rows=1 width=40) (actual time=17.252..18.462 rows=0 loops=1)\\n  Workers Planned: 2\\n  Workers Launched: 2\\n  ->  Parallel Seq Scan on legacy_teams_team  (cost=0.00..6379.08 rows=1 width=40) (actual time=13.668..13.669 rows=0 loops=3)\\n        Filter: ((name)::text = 'abcdeFGHijkl'::text)\\n        Rows Removed by Filter: 152325\\nPlanning Time: 0.071 ms\\nExecution Time: 18.514 ms\""
      ]
     },
     "execution_count": 13,
     "metadata": {},
     "output_type": "execute_result"
    }
   ],
   "source": [
    "from legacy_teams.models import Team as LegacyTeam\n",
    "\n",
    "LegacyTeam.objects.filter(name=\"abcdeFGHijkl\").explain(analyze=True)"
   ]
  },
  {
   "cell_type": "markdown",
   "id": "a7fe7c02",
   "metadata": {},
   "source": [
    "The difference in performance is pretty visible when querying over an indexed column against the \"same\" column that doesn't have an index in the other table, with the query in the indexed column being 200 times faster."
   ]
  },
  {
   "cell_type": "markdown",
   "id": "d778c36a",
   "metadata": {},
   "source": [
    "## Partial indexes"
   ]
  },
  {
   "cell_type": "markdown",
   "id": "85e353a4",
   "metadata": {},
   "source": [
    "Now let's imagine we work for Globe, a company that just bought the broadcasting rights for the Zora's Domain Football Cup. We then decide to query all the teams that are from that city, so we can build a special page on our website just for that competition."
   ]
  },
  {
   "cell_type": "code",
   "execution_count": 22,
   "id": "bbe3966b",
   "metadata": {},
   "outputs": [
    {
     "data": {
      "text/plain": [
       "\"Seq Scan on legacy_teams_team  (cost=0.00..9711.20 rows=44464 width=40) (actual time=0.014..34.544 rows=45900 loops=1)\\n  Filter: ((city)::text = 'Zora''s Domain'::text)\\n  Rows Removed by Filter: 411076\\nPlanning Time: 0.135 ms\\nExecution Time: 35.735 ms\""
      ]
     },
     "execution_count": 22,
     "metadata": {},
     "output_type": "execute_result"
    }
   ],
   "source": [
    "from legacy_teams.models import Team as LegacyTeam\n",
    "\n",
    "LegacyTeam.objects.filter(city=\"Zora's Domain\").explain(analyze=True)"
   ]
  },
  {
   "cell_type": "markdown",
   "id": "0e827175",
   "metadata": {},
   "source": [
    "36ms is certainly \"fine\", but can we do better? The answer is YES.\n",
    "\n",
    "There's a special type of index named Partial Index. It allows us to index a subset of our database that we know will be used a lot in our queries. You can, i.e.:, index a subset of teams that are from the \"Zora's Domain\" city.\n",
    "\n",
    "```python\n",
    "class Team(models.Model):\n",
    "    name = models.CharField(max_length=255, db_index=True)\n",
    "    tv_name = models.CharField(max_length=4)\n",
    "    city = models.CharField(max_length=255)\n",
    "\n",
    "    class Meta:\n",
    "        constraints = [\n",
    "            models.UniqueConstraint(\n",
    "                fields=['tv_name'],\n",
    "                name='%(app_label)s_%(class)s_tv_name_unique',\n",
    "            ),\n",
    "        ]\n",
    "        indexes = [\n",
    "            models.Index(\n",
    "                fields=['city'],\n",
    "                condition=models.Q(city=\"Zora's Domain\"),\n",
    "                name='%(app_label)s_%(class)s_city_zora',\n",
    "            ),\n",
    "        ]\n",
    "```\n",
    "\n",
    "We do so by adding a new index to the `city` field, that will create a \"subset\" of rows that fit a given `condition` (in our case, `city == \"Zora's Domain\"`).\n",
    "\n",
    "Inspecting the migration, we see that PostgreSQL created an index for us that does exactly that."
   ]
  },
  {
   "cell_type": "code",
   "execution_count": 24,
   "id": "7d87943b",
   "metadata": {},
   "outputs": [
    {
     "name": "stdout",
     "output_type": "stream",
     "text": [
      "BEGIN;\n",
      "--\n",
      "-- Create index teams_team_city_zora on field(s) city of model team\n",
      "--\n",
      "CREATE INDEX \"teams_team_city_zora\" ON \"teams_team\" (\"city\") WHERE \"city\" = 'Zora''s Domain';\n",
      "COMMIT;\n"
     ]
    }
   ],
   "source": [
    "%%sh\n",
    "django-admin sqlmigrate teams 0004"
   ]
  },
  {
   "cell_type": "markdown",
   "id": "39b9dd17",
   "metadata": {},
   "source": [
    "Now let's compare the results:"
   ]
  },
  {
   "cell_type": "code",
   "execution_count": 23,
   "id": "33c76b07",
   "metadata": {},
   "outputs": [
    {
     "data": {
      "text/plain": [
       "\"Bitmap Heap Scan on teams_team  (cost=389.99..4948.48 rows=44759 width=40) (actual time=3.196..16.572 rows=45900 loops=1)\\n  Recheck Cond: ((city)::text = 'Zora''s Domain'::text)\\n  Heap Blocks: exact=3999\\n  ->  Bitmap Index Scan on teams_team_city_zora  (cost=0.00..378.80 rows=44759 width=0) (actual time=2.490..2.491 rows=45900 loops=1)\\nPlanning Time: 0.115 ms\\nExecution Time: 18.136 ms\""
      ]
     },
     "execution_count": 23,
     "metadata": {},
     "output_type": "execute_result"
    }
   ],
   "source": [
    "from teams.models import Team\n",
    "\n",
    "Team.objects.filter(city=\"Zora's Domain\").explain(analyze=True)"
   ]
  },
  {
   "cell_type": "markdown",
   "id": "bba3ffa5",
   "metadata": {},
   "source": [
    "Just by creating this index, we're able to reduce the query time in half. Great news!\n",
    "\n",
    "And if we compare this result with another query on the same table and column, but looking for a different city (i.e.: `Tarrey Town`), we'll see that the query has similar performance (and planning) to the not-indexed column from the legacy table."
   ]
  },
  {
   "cell_type": "code",
   "execution_count": 25,
   "id": "9c6713c7",
   "metadata": {},
   "outputs": [
    {
     "data": {
      "text/plain": [
       "\"Seq Scan on teams_team  (cost=0.00..9712.00 rows=44790 width=40) (actual time=0.011..37.783 rows=45615 loops=1)\\n  Filter: ((city)::text = 'Tarrey Town'::text)\\n  Rows Removed by Filter: 411361\\nPlanning Time: 0.093 ms\\nExecution Time: 38.942 ms\""
      ]
     },
     "execution_count": 25,
     "metadata": {},
     "output_type": "execute_result"
    }
   ],
   "source": [
    "from teams.models import Team\n",
    "\n",
    "Team.objects.filter(city=\"Tarrey Town\").explain(analyze=True)"
   ]
  },
  {
   "cell_type": "markdown",
   "id": "7593ccf3",
   "metadata": {},
   "source": [
    "Now let's check the space in disk that PostgreSQL took to create that index. Only 328kB, which is also great news."
   ]
  },
  {
   "cell_type": "code",
   "execution_count": 26,
   "id": "a8f5f1d8",
   "metadata": {},
   "outputs": [
    {
     "data": {
      "text/plain": [
       "('328 kB',)"
      ]
     },
     "execution_count": 26,
     "metadata": {},
     "output_type": "execute_result"
    }
   ],
   "source": [
    "from django.db import connection\n",
    "\n",
    "with connection.cursor() as cursor:\n",
    "    cursor.execute(\n",
    "        \"\"\"\n",
    "        select\n",
    "            pg_size_pretty(pg_relation_size('teams_team_city_zora'))\n",
    "        \"\"\"\n",
    "    )\n",
    "    row = cursor.fetchone()\n",
    "\n",
    "row"
   ]
  },
  {
   "cell_type": "code",
   "execution_count": null,
   "id": "5573a6ac",
   "metadata": {},
   "outputs": [],
   "source": []
  }
 ],
 "metadata": {
  "kernelspec": {
   "display_name": "Django Shell-Plus",
   "language": "python",
   "name": "django_extensions"
  },
  "language_info": {
   "codemirror_mode": {
    "name": "ipython",
    "version": 3
   },
   "file_extension": ".py",
   "mimetype": "text/x-python",
   "name": "python",
   "nbconvert_exporter": "python",
   "pygments_lexer": "ipython3",
   "version": "3.8.12"
  }
 },
 "nbformat": 4,
 "nbformat_minor": 5
}
