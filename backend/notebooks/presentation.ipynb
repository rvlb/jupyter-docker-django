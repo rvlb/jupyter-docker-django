{
 "cells": [
  {
   "cell_type": "markdown",
   "id": "0b5981a8",
   "metadata": {},
   "source": [
    "# Who I am, agenda, etc"
   ]
  },
  {
   "cell_type": "markdown",
   "id": "5056d6a4",
   "metadata": {},
   "source": [
    "# What is a database index"
   ]
  },
  {
   "cell_type": "markdown",
   "id": "81911179",
   "metadata": {},
   "source": [
    "It's a data structure used to quickly locate data in a database table without having to search through all rows. It trades space (used to store the indexes) in order to increase speed performance. A single table can have multiple indexes, each one can be associated to one or more columns of that table."
   ]
  },
  {
   "cell_type": "markdown",
   "id": "d8ffe30e",
   "metadata": {},
   "source": [
    "# How to create an index in Django"
   ]
  },
  {
   "cell_type": "markdown",
   "id": "8cee2f72",
   "metadata": {},
   "source": [
    "Index creation on Django is done when defining the model class. Django will automatically create some indexes, even if not explicitly asked to, to optimize for the most common cases."
   ]
  },
  {
   "cell_type": "code",
   "execution_count": null,
   "id": "85bb1184",
   "metadata": {},
   "outputs": [],
   "source": [
    "# Here we can show an example of the implicit indexes, by running sqlmigrate"
   ]
  },
  {
   "cell_type": "code",
   "execution_count": null,
   "id": "c06af539",
   "metadata": {},
   "outputs": [],
   "source": []
  },
  {
   "cell_type": "markdown",
   "id": "9c519191",
   "metadata": {},
   "source": [
    "# Types of indexes"
   ]
  },
  {
   "cell_type": "code",
   "execution_count": null,
   "id": "0531a672",
   "metadata": {},
   "outputs": [],
   "source": []
  },
  {
   "cell_type": "markdown",
   "id": "8eb9c1ea",
   "metadata": {},
   "source": [
    "# Tradeoffs"
   ]
  },
  {
   "cell_type": "code",
   "execution_count": null,
   "id": "27b836c7",
   "metadata": {},
   "outputs": [],
   "source": [
    "# Space x Time, show examples were optimizing for the fastest speed will end up taking a lot of space in disk"
   ]
  }
 ],
 "metadata": {
  "kernelspec": {
   "display_name": "Django Shell-Plus",
   "language": "python",
   "name": "django_extensions"
  },
  "language_info": {
   "codemirror_mode": {
    "name": "ipython",
    "version": 3
   },
   "file_extension": ".py",
   "mimetype": "text/x-python",
   "name": "python",
   "nbconvert_exporter": "python",
   "pygments_lexer": "ipython3",
   "version": "3.8.12"
  }
 },
 "nbformat": 4,
 "nbformat_minor": 5
}
