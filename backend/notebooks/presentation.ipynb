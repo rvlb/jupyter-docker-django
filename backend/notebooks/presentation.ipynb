{
 "cells": [
  {
   "cell_type": "markdown",
   "id": "81911179",
   "metadata": {},
   "source": [
    "# What is a database index\n",
    "\n",
    "It's a data structure used to quickly locate data in a database table without having to search through all rows. It uses extra space in the disk (used to store the indexes) in order to increase speed performance. A single table can have multiple indexes, each one can be associated to one or more columns of that table."
   ]
  },
  {
   "cell_type": "markdown",
   "id": "8cee2f72",
   "metadata": {},
   "source": [
    "# How to create an index in Django\n",
    "\n",
    "Index creation on Django is done when defining the model class. Although there are multiple ways to create an index, the simplest one is to us pass the `db_index=True` kwarg in the definition of a model field.\n",
    "\n",
    "You can also set a list of `indexes` inside a model `Meta` class and define which field(s) each index will use, as in the example below. More on the different types of indexes later.\n",
    "\n",
    "```python\n",
    "from django.db import models\n",
    "\n",
    "class MyModel(models.Model):\n",
    "    foo = models.CharField(max_length=255)\n",
    "    bar = models.CharField(max_length=255)\n",
    "    class Meta:\n",
    "        indexes = [\n",
    "            models.Index(fields=['foo']),\n",
    "            models.Index(fields=['bar']),\n",
    "        ]\n",
    "```\n",
    "\n",
    "However, Django may automatically create some indexes, even if not explicitly asked to, to optimize for the most common cases."
   ]
  },
  {
   "cell_type": "markdown",
   "id": "aa4a0a28",
   "metadata": {},
   "source": [
    "For this presentation, let's consider the following scenario:\n",
    "\n",
    "```python\n",
    "from django.db import models\n",
    "\n",
    "class Team(models.Model):\n",
    "    name = models.CharField(max_length=255)\n",
    "    tv_name = models.CharField(max_length=4, unique=True)\n",
    "    city = models.CharField(max_length=255)\n",
    "\n",
    "class Player(models.Model):\n",
    "    name = models.CharField(max_length=255)\n",
    "    position = models.CharField(max_length=2)\n",
    "    team = models.ForeignKey(Team, on_delete=models.CASCADE)\n",
    "\n",
    "class Stadium(models.Model):\n",
    "    name = models.CharField(max_length=255)\n",
    "    nickname = models.CharField(max_length=255)\n",
    "    teams = models.ManyToManyField(Team)\n",
    "```"
   ]
  },
  {
   "cell_type": "code",
   "execution_count": 1,
   "id": "c06af539",
   "metadata": {},
   "outputs": [
    {
     "name": "stdout",
     "output_type": "stream",
     "text": [
      "BEGIN;\n",
      "--\n",
      "-- Create model Team\n",
      "--\n",
      "CREATE TABLE \"teams_team\" (\"id\" bigserial NOT NULL PRIMARY KEY, \"name\" varchar(255) NOT NULL, \"tv_name\" varchar(4) NOT NULL UNIQUE, \"city\" varchar(255) NOT NULL);\n",
      "--\n",
      "-- Create model Stadium\n",
      "--\n",
      "CREATE TABLE \"teams_stadium\" (\"id\" bigserial NOT NULL PRIMARY KEY, \"name\" varchar(255) NOT NULL, \"nickname\" varchar(255) NOT NULL);\n",
      "CREATE TABLE \"teams_stadium_teams\" (\"id\" bigserial NOT NULL PRIMARY KEY, \"stadium_id\" bigint NOT NULL, \"team_id\" bigint NOT NULL);\n",
      "--\n",
      "-- Create model Player\n",
      "--\n",
      "CREATE TABLE \"teams_player\" (\"id\" bigserial NOT NULL PRIMARY KEY, \"name\" varchar(255) NOT NULL, \"position\" varchar(2) NOT NULL, \"team_id\" bigint NOT NULL);\n",
      "CREATE INDEX \"teams_team_tv_name_7d091fee_like\" ON \"teams_team\" (\"tv_name\" varchar_pattern_ops);\n",
      "ALTER TABLE \"teams_stadium_teams\" ADD CONSTRAINT \"teams_stadium_teams_stadium_id_team_id_0174a71c_uniq\" UNIQUE (\"stadium_id\", \"team_id\");\n",
      "ALTER TABLE \"teams_stadium_teams\" ADD CONSTRAINT \"teams_stadium_teams_stadium_id_1521a159_fk_teams_stadium_id\" FOREIGN KEY (\"stadium_id\") REFERENCES \"teams_stadium\" (\"id\") DEFERRABLE INITIALLY DEFERRED;\n",
      "ALTER TABLE \"teams_stadium_teams\" ADD CONSTRAINT \"teams_stadium_teams_team_id_57c6bc0d_fk_teams_team_id\" FOREIGN KEY (\"team_id\") REFERENCES \"teams_team\" (\"id\") DEFERRABLE INITIALLY DEFERRED;\n",
      "CREATE INDEX \"teams_stadium_teams_stadium_id_1521a159\" ON \"teams_stadium_teams\" (\"stadium_id\");\n",
      "CREATE INDEX \"teams_stadium_teams_team_id_57c6bc0d\" ON \"teams_stadium_teams\" (\"team_id\");\n",
      "ALTER TABLE \"teams_player\" ADD CONSTRAINT \"teams_player_team_id_4ee5cf70_fk_teams_team_id\" FOREIGN KEY (\"team_id\") REFERENCES \"teams_team\" (\"id\") DEFERRABLE INITIALLY DEFERRED;\n",
      "CREATE INDEX \"teams_player_team_id_4ee5cf70\" ON \"teams_player\" (\"team_id\");\n",
      "COMMIT;\n"
     ]
    }
   ],
   "source": [
    "%%sh\n",
    "django-admin sqlmigrate teams 0001"
   ]
  },
  {
   "cell_type": "markdown",
   "id": "eb5e1fa8",
   "metadata": {},
   "source": [
    "Notice how it calls `CREATE INDEX` multiple times, even though we never explicitly define a single index for any of our fields.\n",
    "\n",
    "```sql\n",
    "CREATE INDEX \"teams_stadium_teams_stadium_id_1521a159\" ON \"teams_stadium_teams\" (\"stadium_id\");\n",
    "CREATE INDEX \"teams_stadium_teams_team_id_57c6bc0d\" ON \"teams_stadium_teams\" (\"team_id\");\n",
    "CREATE INDEX \"teams_player_team_id_4ee5cf70\" ON \"teams_player\" (\"team_id\");\n",
    "```\n",
    "\n",
    "The indexes above are automatically created to optimize the queries we make to access our one-to-many/many-to-many fields. You can ask Django to not creating them by settings `db_index=False` when defining the fields in the models, although you probably shouldn't.\n",
    "\n",
    "There's another interesting index there that's used for the `tv_name` field.\n",
    "```sql\n",
    "CREATE INDEX \"teams_team_tv_name_7d091fee_like\" ON \"teams_team\" (\"tv_name\" varchar_pattern_ops);\n",
    "```\n",
    "\n",
    "This last index is created because we defined `tv_name` as `unique=True` directly in the field declaration. It will use the `varchar_pattern_ops` PostgreSQL function to try to pattern match incoming values with the values stored in the database. Maybe you don't need that extra optimization. In our case, `tv_name` is a short string (only 4 characters) and represents the name of the teams that will be displayed in the TV broadcast of a football match between them (i.e.: MUFC for Manchester United, RMAD for Real Madrid, ROMA for Roma, etc). We'll talk more about this index when discussing the tradeoffs.\n",
    "\n",
    "In this context of short names where we can even have names that are almost the same, maybe running a full equality comparison is enough in terms of speed, and can save us some valuable database space.\n",
    "\n",
    "As we still want `tv_name` to be unique, we can remove `unique=True` from the field and create a unique constraint in the model `Meta` class. For this presentation, we'll create a new field on our model (`tv_name_without_unique`) so we can compare performance with the original field.\n",
    "\n",
    "```python\n",
    "class Team(models.Model):\n",
    "    name = models.CharField(max_length=255)\n",
    "\n",
    "    tv_name = models.CharField(max_length=4, unique=True)\n",
    "    tv_name_without_unique = models.CharField(max_length=4)\n",
    "\n",
    "    city = models.CharField(max_length=255)\n",
    "\n",
    "    class Meta:\n",
    "        constraints = [\n",
    "            models.UniqueConstraint(\n",
    "                fields=['tv_name_without_unique'],\n",
    "                name='%(app_label)s_%(class)s_tv_name_unique',\n",
    "            ),\n",
    "        ]\n",
    "```\n",
    "\n",
    "By running `sqlmigrate`, we can inspect the SQL that Django will execute to create the table."
   ]
  },
  {
   "cell_type": "code",
   "execution_count": 2,
   "id": "ba6465fe",
   "metadata": {
    "scrolled": true
   },
   "outputs": [
    {
     "name": "stdout",
     "output_type": "stream",
     "text": [
      "BEGIN;\n",
      "--\n",
      "-- Add field tv_name_without_unique to team\n",
      "--\n",
      "ALTER TABLE \"teams_team\" ADD COLUMN \"tv_name_without_unique\" varchar(4) DEFAULT '' NOT NULL;\n",
      "ALTER TABLE \"teams_team\" ALTER COLUMN \"tv_name_without_unique\" DROP DEFAULT;\n",
      "--\n",
      "-- Create constraint teams_team_tv_name_unique on model team\n",
      "--\n",
      "ALTER TABLE \"teams_team\" ADD CONSTRAINT \"teams_team_tv_name_unique\" UNIQUE (\"tv_name_without_unique\");\n",
      "COMMIT;\n"
     ]
    }
   ],
   "source": [
    "%%sh\n",
    "django-admin sqlmigrate teams 0002"
   ]
  },
  {
   "cell_type": "markdown",
   "id": "5be5287a",
   "metadata": {},
   "source": [
    "Let's now populate our DB with some data, so we can compare the performance when querying these 2 fields."
   ]
  },
  {
   "cell_type": "code",
   "execution_count": 3,
   "id": "40b90980",
   "metadata": {},
   "outputs": [
    {
     "name": "stdout",
     "output_type": "stream",
     "text": [
      "Created 10000 teams...\n",
      "Created 20000 teams...\n",
      "Created 30000 teams...\n",
      "Created 40000 teams...\n",
      "Created 50000 teams...\n",
      "Created 60000 teams...\n",
      "Created 70000 teams...\n",
      "Created 80000 teams...\n",
      "Created 90000 teams...\n",
      "Created 100000 teams...\n",
      "Created 110000 teams...\n",
      "Created 120000 teams...\n",
      "Created 130000 teams...\n",
      "Created 140000 teams...\n",
      "Created 150000 teams...\n",
      "Created 160000 teams...\n",
      "Created 170000 teams...\n",
      "Created 180000 teams...\n",
      "Created 190000 teams...\n",
      "Created 200000 teams...\n",
      "Created 210000 teams...\n",
      "Created 220000 teams...\n",
      "Created 230000 teams...\n",
      "Created 240000 teams...\n",
      "Created 250000 teams...\n",
      "Created 260000 teams...\n",
      "Created 270000 teams...\n",
      "Created 280000 teams...\n",
      "Created 290000 teams...\n",
      "Created 300000 teams...\n",
      "Created 310000 teams...\n",
      "Created 320000 teams...\n",
      "Created 330000 teams...\n",
      "Created 340000 teams...\n",
      "Created 350000 teams...\n",
      "Created 360000 teams...\n",
      "Created 370000 teams...\n",
      "Created 380000 teams...\n",
      "Created 390000 teams...\n",
      "Created 400000 teams...\n",
      "Created 410000 teams...\n",
      "Created 420000 teams...\n",
      "Created 430000 teams...\n",
      "Created 440000 teams...\n",
      "Created 450000 teams...\n",
      "Finished creating teams\n"
     ]
    }
   ],
   "source": [
    "from common import scripts\n",
    "\n",
    "scripts.clear()\n",
    "\n",
    "scripts.run()"
   ]
  },
  {
   "cell_type": "code",
   "execution_count": 4,
   "id": "c9a318f4",
   "metadata": {},
   "outputs": [
    {
     "data": {
      "text/plain": [
       "456976"
      ]
     },
     "execution_count": 4,
     "metadata": {},
     "output_type": "execute_result"
    }
   ],
   "source": [
    "from teams.models import Team\n",
    "\n",
    "Team.objects.count()"
   ]
  },
  {
   "cell_type": "markdown",
   "id": "5dfe1e85",
   "metadata": {},
   "source": [
    "# Tradeoffs\n",
    "\n",
    "Let's first see what are the sizes of the index and constraints created for the `tv_name`-like columns. It's worth comparing it with the table size itself. We can use the database functions `pg_size_pretty` and `pg_relation_size` to help us."
   ]
  },
  {
   "cell_type": "code",
   "execution_count": 5,
   "id": "0e2c47d3",
   "metadata": {},
   "outputs": [
    {
     "data": {
      "text/plain": [
       "('46 MB', '10040 kB', '10040 kB', '10040 kB')"
      ]
     },
     "execution_count": 5,
     "metadata": {},
     "output_type": "execute_result"
    }
   ],
   "source": [
    "from django.db import connection\n",
    "\n",
    "with connection.cursor() as cursor:\n",
    "    cursor.execute(\n",
    "        \"\"\"\n",
    "        select\n",
    "            pg_size_pretty(pg_relation_size('teams_team')),\n",
    "            pg_size_pretty(pg_relation_size('teams_team_tv_name_7d091fee_like')),\n",
    "            pg_size_pretty(pg_relation_size('teams_team_tv_name_key')),\n",
    "            pg_size_pretty(pg_relation_size('teams_team_tv_name_unique'))\n",
    "        \"\"\"\n",
    "    )\n",
    "    row = cursor.fetchone()\n",
    "\n",
    "row"
   ]
  },
  {
   "cell_type": "markdown",
   "id": "b85b7153",
   "metadata": {},
   "source": [
    "For a table with 456.976 rows (46MB), each index/constraint occupies around 10MB. You can imagine the size of the indexes will grow even further if our table has more rows, which is a safe assumption when thinking of real world scenarios.\n",
    "\n",
    "Now let's compare how much time it would take for Django to query using the `tv_name` column in both versions. We'll use the `.explain(analyze=True)` to help us inspecting what'll be the strategy used to search the database."
   ]
  },
  {
   "cell_type": "code",
   "execution_count": 6,
   "id": "a67b6028",
   "metadata": {},
   "outputs": [
    {
     "name": "stdout",
     "output_type": "stream",
     "text": [
      "Index Scan using teams_team_tv_name_7d091fee_like on teams_team  (cost=0.42..8.44 rows=1 width=72) (actual time=0.020..0.021 rows=1 loops=1)\n",
      "  Index Cond: ((tv_name)::text = 'MUFC'::text)\n",
      "Planning Time: 0.221 ms\n",
      "Execution Time: 0.051 ms\n",
      "\n",
      "Index Scan using teams_team_tv_name_unique on teams_team  (cost=0.42..8.44 rows=1 width=72) (actual time=0.038..0.040 rows=1 loops=1)\n",
      "  Index Cond: ((tv_name_without_unique)::text = 'MUFC'::text)\n",
      "Planning Time: 0.313 ms\n",
      "Execution Time: 0.333 ms\n"
     ]
    }
   ],
   "source": [
    "from teams.models import Team\n",
    "\n",
    "print(Team.objects.filter(tv_name=\"MUFC\").explain(analyze=True))\n",
    "\n",
    "print()\n",
    "\n",
    "print(Team.objects.filter(tv_name_without_unique=\"MUFC\").explain(analyze=True))"
   ]
  },
  {
   "cell_type": "markdown",
   "id": "172f3c69",
   "metadata": {},
   "source": [
    "We can see the difference in performance is pretty much negligible, since PostgreSQL will use the uniqueness constraint that has been added to `tv_name_without_unique` to improve performance.\n",
    "\n",
    "Now considering the scenarios and the indexes/constraints that have been created:\n",
    "\n",
    "\n",
    "- `tv_name = models.CharField(max_length=4, unique=True)`\n",
    " - `teams_team_tv_name_key` (10MB)\n",
    " - `teams_team_tv_name_7d091fee_like` (10MB)\n",
    "\n",
    "\n",
    "- `tv_name_without_unique = models.CharField(max_length=4)`\n",
    " - `teams_team_tv_name_unique` (10MB)\n",
    "\n",
    "\n",
    "It's safe to assume that the best approach is to create the field in the way we did with `tv_name_without_unique`, was the difference in performance is pretty much none and we avoid filling more space in disk."
   ]
  },
  {
   "cell_type": "markdown",
   "id": "3e4e2595",
   "metadata": {},
   "source": [
    "# Further optimizations\n",
    "\n",
    "Let's now try some other optimizations in our models. First of all, we'll add an index to the `name` field on our `Team` model, which will end up looking like this:\n",
    "\n",
    "```python\n",
    "class Team(models.Model):\n",
    "    name = models.CharField(max_length=255)\n",
    "    name_with_index = models.CharField(max_length=255, db_index=True)\n",
    "\n",
    "    tv_name = models.CharField(max_length=4)\n",
    "    tv_name_without_unique = models.CharField(max_length=4)\n",
    "\n",
    "    city = models.CharField(max_length=255)\n",
    "\n",
    "    class Meta:\n",
    "        constraints = [\n",
    "            models.UniqueConstraint(\n",
    "                fields=['tv_name_without_unique'],\n",
    "                name='%(app_label)s_%(class)s_tv_name_unique',\n",
    "            ),\n",
    "        ]\n",
    "```"
   ]
  },
  {
   "cell_type": "code",
   "execution_count": 7,
   "id": "78e1d3cd",
   "metadata": {},
   "outputs": [
    {
     "name": "stdout",
     "output_type": "stream",
     "text": [
      "BEGIN;\n",
      "--\n",
      "-- Add field name_with_index to team\n",
      "--\n",
      "ALTER TABLE \"teams_team\" ADD COLUMN \"name_with_index\" varchar(255) DEFAULT '' NOT NULL;\n",
      "ALTER TABLE \"teams_team\" ALTER COLUMN \"name_with_index\" DROP DEFAULT;\n",
      "CREATE INDEX \"teams_team_name_with_index_1593f8bc\" ON \"teams_team\" (\"name_with_index\");\n",
      "CREATE INDEX \"teams_team_name_with_index_1593f8bc_like\" ON \"teams_team\" (\"name_with_index\" varchar_pattern_ops);\n",
      "COMMIT;\n"
     ]
    }
   ],
   "source": [
    "%%sh\n",
    "django-admin sqlmigrate teams 0003"
   ]
  },
  {
   "cell_type": "markdown",
   "id": "872a2344",
   "metadata": {},
   "source": [
    "By adding the `db_index=True` to the `name`-like column, that same `varchar_pattern_ops` index from before was created. This time, it may come useful, as pattern matching on clubs names can come handy, especially as they can be pretty large.\n",
    "\n",
    "Let's measure the impact of this change. The first query will be performed over the column with an index and the second will be done on the original column."
   ]
  },
  {
   "cell_type": "code",
   "execution_count": 8,
   "id": "2a29c02d",
   "metadata": {},
   "outputs": [
    {
     "name": "stdout",
     "output_type": "stream",
     "text": [
      "Index Scan using teams_team_name_with_index_1593f8bc_like on teams_team  (cost=0.42..8.44 rows=1 width=72) (actual time=0.024..0.024 rows=0 loops=1)\n",
      "  Index Cond: ((name_with_index)::text = 'abcdeFGHijkl'::text)\n",
      "Planning Time: 0.078 ms\n",
      "Execution Time: 0.061 ms\n",
      "\n",
      "Gather  (cost=1000.00..9233.46 rows=1 width=72) (actual time=18.717..20.287 rows=0 loops=1)\n",
      "  Workers Planned: 2\n",
      "  Workers Launched: 2\n",
      "  ->  Parallel Seq Scan on teams_team  (cost=0.00..8233.36 rows=1 width=72) (actual time=16.366..16.367 rows=0 loops=3)\n",
      "        Filter: ((name)::text = 'abcdeFGHijkl'::text)\n",
      "        Rows Removed by Filter: 152325\n",
      "Planning Time: 0.065 ms\n",
      "Execution Time: 20.324 ms\n"
     ]
    }
   ],
   "source": [
    "from teams.models import Team\n",
    "\n",
    "print(Team.objects.filter(name_with_index=\"abcdeFGHijkl\").explain(analyze=True))\n",
    "\n",
    "print()\n",
    "\n",
    "print(Team.objects.filter(name=\"abcdeFGHijkl\").explain(analyze=True))"
   ]
  },
  {
   "cell_type": "markdown",
   "id": "a7fe7c02",
   "metadata": {},
   "source": [
    "The difference is pretty visible here, with the query over the indexed field being over 300x more performatic. For this scenario, we must start analyzing the tradeoffs, as we can see in the migration that 2 new indexes have been created (meaning space in disk being allocated)."
   ]
  },
  {
   "cell_type": "code",
   "execution_count": 9,
   "id": "8b2d7467",
   "metadata": {},
   "outputs": [
    {
     "data": {
      "text/plain": [
       "('18 MB', '18 MB')"
      ]
     },
     "execution_count": 9,
     "metadata": {},
     "output_type": "execute_result"
    }
   ],
   "source": [
    "from django.db import connection\n",
    "\n",
    "with connection.cursor() as cursor:\n",
    "    cursor.execute(\n",
    "        \"\"\"\n",
    "        select\n",
    "            pg_size_pretty(pg_relation_size('teams_team_name_with_index_1593f8bc')),\n",
    "            pg_size_pretty(pg_relation_size('teams_team_name_with_index_1593f8bc_like'))\n",
    "        \"\"\"\n",
    "    )\n",
    "    row = cursor.fetchone()\n",
    "\n",
    "row"
   ]
  },
  {
   "cell_type": "markdown",
   "id": "85e353a4",
   "metadata": {},
   "source": [
    "## Partial indexes\n",
    "\n",
    "Now let's imagine we work for Globe, a company that just bought the broadcasting rights for the Zora's Domain Football Cup. Prince Sidon of the Zoras has tasked us to build a special page on Globe's website just for that competition.\n",
    "\n",
    "We then decide to start by querying all the teams that are from that city."
   ]
  },
  {
   "cell_type": "code",
   "execution_count": 10,
   "id": "bbe3966b",
   "metadata": {},
   "outputs": [
    {
     "data": {
      "text/plain": [
       "\"Seq Scan on teams_team  (cost=0.00..11565.86 rows=45078 width=72) (actual time=0.032..34.859 rows=45523 loops=1)\\n  Filter: ((city)::text = 'Zora''s Domain'::text)\\n  Rows Removed by Filter: 411453\\nPlanning Time: 0.094 ms\\nExecution Time: 35.853 ms\""
      ]
     },
     "execution_count": 10,
     "metadata": {},
     "output_type": "execute_result"
    }
   ],
   "source": [
    "from teams.models import Team\n",
    "\n",
    "Team.objects.filter(city=\"Zora's Domain\").explain(analyze=True)"
   ]
  },
  {
   "cell_type": "markdown",
   "id": "0e827175",
   "metadata": {},
   "source": [
    "Can we do better than 35ms per query? Yes, we can!\n",
    "\n",
    "There's a special type of index named Partial Index. It allows us to index a subset of our database that we know will be used a lot in our queries. You can, i.e.:, index a subset of teams that are from the \"Zora's Domain\" city.\n",
    "\n",
    "```python\n",
    "class Team(models.Model):\n",
    "    name = models.CharField(max_length=255)\n",
    "    name_with_index = models.CharField(max_length=255, db_index=True)\n",
    "\n",
    "    tv_name = models.CharField(max_length=4, unique=True)\n",
    "    tv_name_without_unique = models.CharField(max_length=4)\n",
    "\n",
    "    city = models.CharField(max_length=255)\n",
    "    city_with_partial_index = models.CharField(max_length=255)\n",
    "\n",
    "    class Meta:\n",
    "        constraints = [\n",
    "            models.UniqueConstraint(\n",
    "                fields=['tv_name_without_unique'],\n",
    "                name='%(app_label)s_%(class)s_tv_name_unique',\n",
    "            ),\n",
    "        ]\n",
    "        indexes = [\n",
    "            models.Index(\n",
    "                fields=['city_with_partial_index'],\n",
    "                condition=models.Q(city_with_partial_index=\"Zora's Domain\"),\n",
    "                name='%(app_label)s_%(class)s_city_zora',\n",
    "            ),\n",
    "        ]\n",
    "```\n",
    "\n",
    "We do so by adding a new index to the newly created `city`-like field, that will internally \"create a subset\" of rows that fit a given `condition` (in our case, `city == \"Zora's Domain\"`).\n",
    "\n",
    "Inspecting the migration, we see that PostgreSQL created an index for us that does exactly that."
   ]
  },
  {
   "cell_type": "code",
   "execution_count": 11,
   "id": "7d87943b",
   "metadata": {},
   "outputs": [
    {
     "name": "stdout",
     "output_type": "stream",
     "text": [
      "BEGIN;\n",
      "--\n",
      "-- Add field city_with_partial_index to team\n",
      "--\n",
      "ALTER TABLE \"teams_team\" ADD COLUMN \"city_with_partial_index\" varchar(255) DEFAULT '' NOT NULL;\n",
      "ALTER TABLE \"teams_team\" ALTER COLUMN \"city_with_partial_index\" DROP DEFAULT;\n",
      "--\n",
      "-- Create index teams_team_city_zora on field(s) city_with_partial_index of model team\n",
      "--\n",
      "CREATE INDEX \"teams_team_city_zora\" ON \"teams_team\" (\"city_with_partial_index\") WHERE \"city_with_partial_index\" = 'Zora''s Domain';\n",
      "COMMIT;\n"
     ]
    }
   ],
   "source": [
    "%%sh\n",
    "django-admin sqlmigrate teams 0004"
   ]
  },
  {
   "cell_type": "markdown",
   "id": "39b9dd17",
   "metadata": {},
   "source": [
    "Now let's compare the results:"
   ]
  },
  {
   "cell_type": "code",
   "execution_count": 12,
   "id": "33c76b07",
   "metadata": {},
   "outputs": [
    {
     "data": {
      "text/plain": [
       "\"Bitmap Heap Scan on teams_team  (cost=388.07..6804.55 rows=45078 width=72) (actual time=2.150..15.728 rows=45523 loops=1)\\n  Recheck Cond: ((city_with_partial_index)::text = 'Zora''s Domain'::text)\\n  Heap Blocks: exact=5852\\n  ->  Bitmap Index Scan on teams_team_city_zora  (cost=0.00..376.81 rows=45078 width=0) (actual time=1.488..1.488 rows=45523 loops=1)\\nPlanning Time: 0.086 ms\\nExecution Time: 16.917 ms\""
      ]
     },
     "execution_count": 12,
     "metadata": {},
     "output_type": "execute_result"
    }
   ],
   "source": [
    "from teams.models import Team\n",
    "\n",
    "Team.objects.filter(city_with_partial_index=\"Zora's Domain\").explain(analyze=True)"
   ]
  },
  {
   "cell_type": "markdown",
   "id": "bba3ffa5",
   "metadata": {},
   "source": [
    "Just by creating this index, we're able to reduce the query time in more than half of the original one. Great news!\n",
    "\n",
    "And if we compare this result with another query on the same table and column, but looking for a different city (i.e.: `Tarrey Town`), we'll see that the query has similar performance (and planning) on both fields."
   ]
  },
  {
   "cell_type": "code",
   "execution_count": 13,
   "id": "9c6713c7",
   "metadata": {},
   "outputs": [
    {
     "name": "stdout",
     "output_type": "stream",
     "text": [
      "Seq Scan on teams_team  (cost=0.00..11565.86 rows=45840 width=72) (actual time=0.025..37.508 rows=45807 loops=1)\n",
      "  Filter: ((city)::text = 'Tarrey Town'::text)\n",
      "  Rows Removed by Filter: 411169\n",
      "Planning Time: 0.070 ms\n",
      "Execution Time: 38.581 ms\n",
      "\n",
      "Seq Scan on teams_team  (cost=0.00..11565.86 rows=45840 width=72) (actual time=0.013..40.460 rows=45807 loops=1)\n",
      "  Filter: ((city_with_partial_index)::text = 'Tarrey Town'::text)\n",
      "  Rows Removed by Filter: 411169\n",
      "Planning Time: 0.090 ms\n",
      "Execution Time: 41.511 ms\n"
     ]
    }
   ],
   "source": [
    "from teams.models import Team\n",
    "\n",
    "print(Team.objects.filter(city=\"Tarrey Town\").explain(analyze=True))\n",
    "\n",
    "print()\n",
    "\n",
    "print(Team.objects.filter(city_with_partial_index=\"Tarrey Town\").explain(analyze=True))"
   ]
  },
  {
   "cell_type": "markdown",
   "id": "7593ccf3",
   "metadata": {},
   "source": [
    "Now let's check the space in disk that PostgreSQL took to create that index: around 300kB, which is also great news. That's an optimization without much tradeoffs, that can be safely implemented if we have a scenario that we know we're going to repeatedly query a lot."
   ]
  },
  {
   "cell_type": "code",
   "execution_count": 14,
   "id": "a8f5f1d8",
   "metadata": {},
   "outputs": [
    {
     "data": {
      "text/plain": [
       "('304 kB',)"
      ]
     },
     "execution_count": 14,
     "metadata": {},
     "output_type": "execute_result"
    }
   ],
   "source": [
    "from django.db import connection\n",
    "\n",
    "with connection.cursor() as cursor:\n",
    "    cursor.execute(\n",
    "        \"\"\"\n",
    "        select\n",
    "            pg_size_pretty(pg_relation_size('teams_team_city_zora'))\n",
    "        \"\"\"\n",
    "    )\n",
    "    row = cursor.fetchone()\n",
    "\n",
    "row"
   ]
  },
  {
   "cell_type": "markdown",
   "id": "ce13d0ea",
   "metadata": {},
   "source": [
    "We managed to implement a performatic query using an indexes and without using much space in disk. Now Prince Sidon is happy, as he'll be able to look for the news of the Zora's Domain Football Cup without having to wait a lot for the data to come through the endpoint. Good job!\n",
    "\n",
    "![PrinceSidon](prince-sidon.gif \"sidon\")"
   ]
  },
  {
   "cell_type": "markdown",
   "id": "7e7c8f4a",
   "metadata": {},
   "source": [
    "# Moral of the story"
   ]
  },
  {
   "cell_type": "markdown",
   "id": "20b1c4b1",
   "metadata": {},
   "source": [
    "- Indexes are certainly helpful and can help improving/removing database access bottlenecks from your application\n",
    "- It's not always necessary to create an index. They can take a lot of space in disk, especially for tables with many rows, so you must analyze if the tradeoff here is worth taking\n",
    " - Use `sqlmigrate`, `.explain()` and database functions to help you decide if the gain in performance is worth the space in disk usage\n",
    " - Indexes are tools given to us to solve a set of problems. Use them to solve those problems, if they start showing up. Overoptimization can end up feeling like trying to use a sledgehammer to crack a nut."
   ]
  },
  {
   "cell_type": "markdown",
   "id": "5cd694a2",
   "metadata": {},
   "source": [
    "## References and useful links\n",
    "\n",
    "- [Django indexes documentation](https://docs.djangoproject.com/en/4.0/ref/models/indexes/)\n",
    "- [PostgreSQL specific indexes](https://docs.djangoproject.com/en/4.0/ref/contrib/postgres/indexes/)\n",
    "- [DjangoCon 2021 | Unlocking the full potential of PostgreSQL indexes in Django | Haki Benita](https://www.youtube.com/watch?v=BhxCYK6TCwo)"
   ]
  }
 ],
 "metadata": {
  "kernelspec": {
   "display_name": "Django Shell-Plus",
   "language": "python",
   "name": "django_extensions"
  },
  "language_info": {
   "codemirror_mode": {
    "name": "ipython",
    "version": 3
   },
   "file_extension": ".py",
   "mimetype": "text/x-python",
   "name": "python",
   "nbconvert_exporter": "python",
   "pygments_lexer": "ipython3",
   "version": "3.8.12"
  }
 },
 "nbformat": 4,
 "nbformat_minor": 5
}
